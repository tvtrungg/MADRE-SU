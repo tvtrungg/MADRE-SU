{
 "cells": [
  {
   "cell_type": "markdown",
   "id": "298f8e35",
   "metadata": {},
   "source": [
    "# TP 1: Introduction to Regression for Network Data Analysis"
   ]
  },
  {
   "cell_type": "markdown",
   "id": "6294b883",
   "metadata": {},
   "source": [
    "## Supervised Learning: A Quick Recap\n",
    "\n",
    "Supervised learning is a type of machine learning where we **train a model using labeled data**.  \n",
    "\n",
    "That means each data point has:\n",
    "- An **input** (also called features)\n",
    "- A known **output** (label or value)\n",
    "\n",
    "The goal is to teach the model how to map inputs to outputs so it can make accurate predictions on unseen data.\n",
    "\n",
    "There are two main types of supervised learning:\n",
    "- **Classification**: It is used when the output is a **category or class**. In classification, the model picks a **label** from a fixed set of possible answers. (e.g. Is a network connection **normal** or **malicious**?)\n",
    "- **Regression**: It is used when the output is a **number (a continuous value)**. \n",
    "In regression, the model tries to learn a formula that outputs a number — not a category. (e.g. Estimating **download time** based on file size)\n"
   ]
  },
  {
   "cell_type": "markdown",
   "id": "c4338358",
   "metadata": {},
   "source": [
    "## 📝 Exercise 1: Simple Linear Regression"
   ]
  },
  {
   "cell_type": "markdown",
   "id": "1d4b540b",
   "metadata": {},
   "source": [
    "In this first exercise, we will explore **linear regression models**, starting with a simple case where we model an output variable $y$ as a linear function of a single input feature $x$."
   ]
  },
  {
   "cell_type": "markdown",
   "id": "538d6156",
   "metadata": {},
   "source": [
    "We will work with linear models of the form:  $y = \\beta_0+\\beta_1 x + \\epsilon$\n",
    "\n",
    "where:\n",
    "- $\\beta_0$: the **intercept** (value of $y$ when $x = 0$)  \n",
    "- $\\beta_1$: the **slope** (how much $y$ changes for a one-unit increase in $x$)  \n",
    "- $\\epsilon$: a **random error term** that accounts for noise or variability not explained by the linear relationship\n",
    "\n",
    "This setup is the foundation of a **linear regression model**.\n",
    "\n",
    "We assume that the random error term $\\epsilon$ follows a **normal distribution** $\\epsilon \\sim \\mathcal{N}(0,\\sigma^2)$ where:\n",
    "\n",
    "- The **mean** of the noise is zero.\n",
    "- The **variance** of the noise is $\\sigma^2$, so the standard deviation is $\\sigma$.\n",
    "- The noise is **independent** of $x$, and each observation is **i.i.d.** (independent and identically distributed).\n",
    "\n",
    "As a means of example, let us consider the linear model: $y=b_0+b_1x+\\epsilon$\n",
    "\n",
    "with:\n",
    "- $b_0 = 2$ (intercept)\n",
    "- $b_1 = 3$ (slope)\n",
    "- $\\sigma = 30$ (standard deviation of the noise)\n",
    "\n",
    "Note that at the end of the example, you can experiment with different values to your own choice to see how they affect the data and the fitted model.\n",
    "\n",
    "In this case:\n",
    "- $y$ is the value we **observe or measure** when the input feature takes the value $x$.\n",
    "- The **sample size** (i.e., number of data points) is denoted by $n$."
   ]
  },
  {
   "cell_type": "markdown",
   "id": "c9b576f7",
   "metadata": {},
   "source": [
    "### Preparation: Generating \"Synthetic Data\""
   ]
  },
  {
   "cell_type": "markdown",
   "id": "21f1ea30",
   "metadata": {},
   "source": [
    "#### Step 1: Import Required Libraries\n",
    "\n",
    "First, let's import the necessary libraries for data manipulation, visualization and regression modeling."
   ]
  },
  {
   "cell_type": "code",
   "execution_count": 51,
   "id": "980a83f2",
   "metadata": {},
   "outputs": [],
   "source": [
    "# Import necessary libraries\n",
    "import matplotlib.pyplot as plt\n",
    "import numpy as np\n",
    "import pandas as pd\n",
    "import math\n",
    "import random\n",
    "import statsmodels.api as sm\n",
    "from sklearn import datasets, linear_model"
   ]
  },
  {
   "cell_type": "markdown",
   "id": "88237499",
   "metadata": {},
   "source": [
    "We define the true underlying parameters of the linear model and the sample size to simulate synthetic data for regression analysis.\n"
   ]
  },
  {
   "cell_type": "code",
   "execution_count": 52,
   "id": "04f336ca",
   "metadata": {},
   "outputs": [],
   "source": [
    "# Define parameters for synthetic data generation\n",
    "n = 20 # sample size\n",
    "b0 = 2 # real intercept (unobserved)\n",
    "b1 = np.array([3]) # real slope (unobserved)"
   ]
  },
  {
   "cell_type": "markdown",
   "id": "48a7842c",
   "metadata": {},
   "source": [
    "Now, to simulate data for our linear model $y = \\beta_0 + \\beta_1 x + \\epsilon$, we’ll follow these steps:"
   ]
  },
  {
   "cell_type": "markdown",
   "id": "0e0729ce",
   "metadata": {},
   "source": [
    "#### Step 2: Define the Random Error Term ($\\epsilon$)\n",
    "\n",
    "The error term $\\epsilon$ represents random noise in the data. It is sampled from a normal distribution with a specified mean and standard deviation.\n"
   ]
  },
  {
   "cell_type": "code",
   "execution_count": 53,
   "id": "4edeea05",
   "metadata": {},
   "outputs": [
    {
     "name": "stdout",
     "output_type": "stream",
     "text": [
      "Error vector (Er): [ 33.24214448  -9.66833454  68.66231565 -55.3634741  -46.02241369\n",
      "  32.69834474  36.28414203  -8.77906033 -28.89190806   6.07129635\n",
      "  48.70306245 -69.33409712  31.09989668  70.21805685  -6.69218164\n",
      " -19.60951679  24.44625946 -12.92376476  -0.37686216  39.06455214]\n"
     ]
    }
   ],
   "source": [
    "# Mean and standard deviation for the error term\n",
    "mue, sigmae = 0, 30\n",
    "\n",
    "# Set a random seed to make results reproducible, \n",
    "# if you want to fix a 'random' vector and not have different vectors per call:\n",
    "np.random.seed(199)\n",
    "\n",
    "# Generate the error vector Er of size n\n",
    "Er = np.random.normal(mue, sigmae, n)\n",
    "print(\"Error vector (Er):\", Er)"
   ]
  },
  {
   "cell_type": "markdown",
   "id": "d43058f1",
   "metadata": {},
   "source": [
    "#### Step 3: Generate the Feature Input ($x$)"
   ]
  },
  {
   "cell_type": "markdown",
   "id": "8d909d17",
   "metadata": {},
   "source": [
    "We assume that $x$, our input feature, lies within an interval $[xl, xh]$. We randomly sample $n$ values from this range using a uniform distribution."
   ]
  },
  {
   "cell_type": "code",
   "execution_count": 54,
   "id": "359798d2",
   "metadata": {},
   "outputs": [
    {
     "name": "stdout",
     "output_type": "stream",
     "text": [
      "Input feature vector (x): [ 78.57500336 117.84471417  47.98856377 101.29831222  55.66108205\n",
      "  65.38116798  74.337341    39.82041465 117.71944956  31.32134616\n",
      " 112.80089673   5.39719021  50.41908488  99.59823395  69.68557585\n",
      "  13.90856407  13.01791564 107.00400554  53.31687507  64.69449614]\n"
     ]
    }
   ],
   "source": [
    "# Define bounds for x\n",
    "xl, xh = 0, 120\n",
    "\n",
    "# Fixing seed again\n",
    "np.random.seed(199)\n",
    "\n",
    "# Generate n values of x uniformly between xl and xh\n",
    "x = np.random.uniform(xl,xh,n)\n",
    "print(\"Input feature vector (x):\", x)"
   ]
  },
  {
   "cell_type": "markdown",
   "id": "eb779802",
   "metadata": {},
   "source": [
    "#### Step 4: Compute the Output Variable ($y$)"
   ]
  },
  {
   "cell_type": "markdown",
   "id": "f24b3d60",
   "metadata": {},
   "source": [
    "Using the linear model and the generated values of n-sized vectors Er and x, we compute the corresponding values of y."
   ]
  },
  {
   "cell_type": "code",
   "execution_count": 55,
   "id": "1ca9ed2d",
   "metadata": {},
   "outputs": [
    {
     "name": "stdout",
     "output_type": "stream",
     "text": [
      "Output variable (y): [270.96715455 345.86580798 214.62800697 250.53146256 122.96083245\n",
      " 230.84184868 261.29616502 112.6821836  326.26644061 102.03533484\n",
      " 389.10575263 -51.1425265  184.35715132 371.01275871 204.36454591\n",
      "  24.11617543  65.50000638 310.08825187 161.57376303 235.14804055]\n"
     ]
    }
   ],
   "source": [
    "# Compute y using the model\n",
    "y = b0 + b1[0] * x + Er\n",
    "print(\"Output variable (y):\", y)"
   ]
  },
  {
   "cell_type": "markdown",
   "id": "eae26401",
   "metadata": {},
   "source": [
    "#### Step 5: Visualize the Data"
   ]
  },
  {
   "cell_type": "markdown",
   "id": "305c34b1",
   "metadata": {},
   "source": [
    "Let us plot the line $y=2+3x$ (without noise) as well as the generated points $y$ that include the error."
   ]
  },
  {
   "cell_type": "code",
   "execution_count": 56,
   "id": "b93f054a",
   "metadata": {},
   "outputs": [
    {
     "data": {
      "image/png": "[encoded data removed]",
      "text/plain": [
       "<Figure size 576x360 with 1 Axes>"
      ]
     },
     "metadata": {
      "needs_background": "light"
     },
     "output_type": "display_data"
    }
   ],
   "source": [
    "plt.figure(figsize=(8, 5))\n",
    "\n",
    "plt.plot(x, y, 'o', color='blue', label='Simulated data')\n",
    "plt.plot(x, b0+b1*x, color='orange',  label='Line: $y = 2 + 3x$')\n",
    "\n",
    "plt.xlabel(\"x\")\n",
    "plt.ylabel(\"y\")\n",
    "plt.legend()\n",
    "plt.title(\"Linear Model with Noise\")\n",
    "plt.grid(True)\n",
    "plt.show()"
   ]
  },
  {
   "cell_type": "markdown",
   "id": "c4d8aedf",
   "metadata": {},
   "source": [
    "#### Step 6: Wrap It Up Into a Function"
   ]
  },
  {
   "cell_type": "markdown",
   "id": "95bc2144",
   "metadata": {},
   "source": [
    "To make the data generation process reusable, we define the function `genSample()` that creates synthetic data for both **simple** and **multiple linear regression** tasks.\n",
    "\n",
    "- The function accepts a `seed` parameter:\n",
    "  - If `seed` is set to an **integer**, the random values are reproducible — the same `x`, `y`, and `Er` vectors are generated every time.\n",
    "  - If `seed` is left **empty**, the random values change with each call.\n",
    "\n",
    "\n",
    "- The `size` parameter controls the number of features in the input vector `x`:\n",
    "  - If `size = 1`, it generates data for **simple linear regression** (one feature).\n",
    "  - If `size > 1`, it produces inputs for **multiple linear regression** (multiple features).\n",
    "\n",
    "This structure allows you to generate controlled or randomized data for different types of regression experiments. Keep in mind that this process will be needed for later TP sessions."
   ]
  },
  {
   "cell_type": "code",
   "execution_count": 57,
   "id": "9f5dafaf",
   "metadata": {},
   "outputs": [],
   "source": [
    "def genSample(n, b0, b1, sigmae, xLow, xHigh, seedit=199, size=1):\n",
    "    if type(seedit) == int:\n",
    "        np.random.seed(seedit)\n",
    "        Er = np.random.normal(mue, sigmae, n)\n",
    "        x = []\n",
    "        for k in range(size):\n",
    "            np.random.seed(seedit + k)\n",
    "            x.append(np.random.uniform(xl, xh, n))\n",
    "    else:\n",
    "        np.random.seed()\n",
    "        Er = np.random.normal(mue, sigmae, n)\n",
    "        x = []\n",
    "        for k in range(size):\n",
    "            np.random.seed()\n",
    "            x.append(np.random.uniform(xl, xh, n))\n",
    "        \n",
    "    # Compute y\n",
    "    y = b0 + Er\n",
    "    for k in range(size):\n",
    "        y += b1[k] * x[k]\n",
    "\n",
    "    # Output\n",
    "    if size == 1:\n",
    "        return (x[0], y, Er)\n",
    "    else:\n",
    "        return (x, y, Er)"
   ]
  },
  {
   "cell_type": "code",
   "execution_count": 58,
   "id": "f00c5eaa",
   "metadata": {},
   "outputs": [
    {
     "name": "stdout",
     "output_type": "stream",
     "text": [
      "x =  [ 78.57500336 117.84471417  47.98856377 101.29831222  55.66108205\n",
      "  65.38116798  74.337341    39.82041465 117.71944956  31.32134616\n",
      " 112.80089673   5.39719021  50.41908488  99.59823395  69.68557585\n",
      "  13.90856407  13.01791564 107.00400554  53.31687507  64.69449614]\n",
      "y =  [270.96715455 345.86580798 214.62800697 250.53146256 122.96083245\n",
      " 230.84184868 261.29616502 112.6821836  326.26644061 102.03533484\n",
      " 389.10575263 -51.1425265  184.35715132 371.01275871 204.36454591\n",
      "  24.11617543  65.50000638 310.08825187 161.57376303 235.14804055]\n",
      "Er =  [ 33.24214448  -9.66833454  68.66231565 -55.3634741  -46.02241369\n",
      "  32.69834474  36.28414203  -8.77906033 -28.89190806   6.07129635\n",
      "  48.70306245 -69.33409712  31.09989668  70.21805685  -6.69218164\n",
      " -19.60951679  24.44625946 -12.92376476  -0.37686216  39.06455214]\n"
     ]
    }
   ],
   "source": [
    "# Generate synthetic data\n",
    "n, b0, b1 = 20, 2, np.array([3])\n",
    "(x, y, Er) = genSample(n, b0, b1, sigmae, xl, xh, seedit=199, size=1)\n",
    "print(\"x = \", x)\n",
    "print(\"y = \", y)\n",
    "print(\"Er = \", Er)"
   ]
  },
  {
   "cell_type": "code",
   "execution_count": 59,
   "id": "a15fb2bd",
   "metadata": {},
   "outputs": [
    {
     "data": {
      "text/html": [
       "<div>\n",
       "<style scoped>\n",
       "    .dataframe tbody tr th:only-of-type {\n",
       "        vertical-align: middle;\n",
       "    }\n",
       "\n",
       "    .dataframe tbody tr th {\n",
       "        vertical-align: top;\n",
       "    }\n",
       "\n",
       "    .dataframe thead th {\n",
       "        text-align: right;\n",
       "    }\n",
       "</style>\n",
       "<table border=\"1\" class=\"dataframe\">\n",
       "  <thead>\n",
       "    <tr style=\"text-align: right;\">\n",
       "      <th></th>\n",
       "      <th>x</th>\n",
       "      <th>y</th>\n",
       "      <th>error</th>\n",
       "    </tr>\n",
       "  </thead>\n",
       "  <tbody>\n",
       "    <tr>\n",
       "      <th>0</th>\n",
       "      <td>78.575003</td>\n",
       "      <td>270.967155</td>\n",
       "      <td>33.242144</td>\n",
       "    </tr>\n",
       "    <tr>\n",
       "      <th>1</th>\n",
       "      <td>117.844714</td>\n",
       "      <td>345.865808</td>\n",
       "      <td>-9.668335</td>\n",
       "    </tr>\n",
       "    <tr>\n",
       "      <th>2</th>\n",
       "      <td>47.988564</td>\n",
       "      <td>214.628007</td>\n",
       "      <td>68.662316</td>\n",
       "    </tr>\n",
       "    <tr>\n",
       "      <th>3</th>\n",
       "      <td>101.298312</td>\n",
       "      <td>250.531463</td>\n",
       "      <td>-55.363474</td>\n",
       "    </tr>\n",
       "    <tr>\n",
       "      <th>4</th>\n",
       "      <td>55.661082</td>\n",
       "      <td>122.960832</td>\n",
       "      <td>-46.022414</td>\n",
       "    </tr>\n",
       "    <tr>\n",
       "      <th>5</th>\n",
       "      <td>65.381168</td>\n",
       "      <td>230.841849</td>\n",
       "      <td>32.698345</td>\n",
       "    </tr>\n",
       "    <tr>\n",
       "      <th>6</th>\n",
       "      <td>74.337341</td>\n",
       "      <td>261.296165</td>\n",
       "      <td>36.284142</td>\n",
       "    </tr>\n",
       "    <tr>\n",
       "      <th>7</th>\n",
       "      <td>39.820415</td>\n",
       "      <td>112.682184</td>\n",
       "      <td>-8.779060</td>\n",
       "    </tr>\n",
       "    <tr>\n",
       "      <th>8</th>\n",
       "      <td>117.719450</td>\n",
       "      <td>326.266441</td>\n",
       "      <td>-28.891908</td>\n",
       "    </tr>\n",
       "    <tr>\n",
       "      <th>9</th>\n",
       "      <td>31.321346</td>\n",
       "      <td>102.035335</td>\n",
       "      <td>6.071296</td>\n",
       "    </tr>\n",
       "    <tr>\n",
       "      <th>10</th>\n",
       "      <td>112.800897</td>\n",
       "      <td>389.105753</td>\n",
       "      <td>48.703062</td>\n",
       "    </tr>\n",
       "    <tr>\n",
       "      <th>11</th>\n",
       "      <td>5.397190</td>\n",
       "      <td>-51.142527</td>\n",
       "      <td>-69.334097</td>\n",
       "    </tr>\n",
       "    <tr>\n",
       "      <th>12</th>\n",
       "      <td>50.419085</td>\n",
       "      <td>184.357151</td>\n",
       "      <td>31.099897</td>\n",
       "    </tr>\n",
       "    <tr>\n",
       "      <th>13</th>\n",
       "      <td>99.598234</td>\n",
       "      <td>371.012759</td>\n",
       "      <td>70.218057</td>\n",
       "    </tr>\n",
       "    <tr>\n",
       "      <th>14</th>\n",
       "      <td>69.685576</td>\n",
       "      <td>204.364546</td>\n",
       "      <td>-6.692182</td>\n",
       "    </tr>\n",
       "    <tr>\n",
       "      <th>15</th>\n",
       "      <td>13.908564</td>\n",
       "      <td>24.116175</td>\n",
       "      <td>-19.609517</td>\n",
       "    </tr>\n",
       "    <tr>\n",
       "      <th>16</th>\n",
       "      <td>13.017916</td>\n",
       "      <td>65.500006</td>\n",
       "      <td>24.446259</td>\n",
       "    </tr>\n",
       "    <tr>\n",
       "      <th>17</th>\n",
       "      <td>107.004006</td>\n",
       "      <td>310.088252</td>\n",
       "      <td>-12.923765</td>\n",
       "    </tr>\n",
       "    <tr>\n",
       "      <th>18</th>\n",
       "      <td>53.316875</td>\n",
       "      <td>161.573763</td>\n",
       "      <td>-0.376862</td>\n",
       "    </tr>\n",
       "    <tr>\n",
       "      <th>19</th>\n",
       "      <td>64.694496</td>\n",
       "      <td>235.148041</td>\n",
       "      <td>39.064552</td>\n",
       "    </tr>\n",
       "  </tbody>\n",
       "</table>\n",
       "</div>"
      ],
      "text/plain": [
       "             x           y      error\n",
       "0    78.575003  270.967155  33.242144\n",
       "1   117.844714  345.865808  -9.668335\n",
       "2    47.988564  214.628007  68.662316\n",
       "3   101.298312  250.531463 -55.363474\n",
       "4    55.661082  122.960832 -46.022414\n",
       "5    65.381168  230.841849  32.698345\n",
       "6    74.337341  261.296165  36.284142\n",
       "7    39.820415  112.682184  -8.779060\n",
       "8   117.719450  326.266441 -28.891908\n",
       "9    31.321346  102.035335   6.071296\n",
       "10  112.800897  389.105753  48.703062\n",
       "11    5.397190  -51.142527 -69.334097\n",
       "12   50.419085  184.357151  31.099897\n",
       "13   99.598234  371.012759  70.218057\n",
       "14   69.685576  204.364546  -6.692182\n",
       "15   13.908564   24.116175 -19.609517\n",
       "16   13.017916   65.500006  24.446259\n",
       "17  107.004006  310.088252 -12.923765\n",
       "18   53.316875  161.573763  -0.376862\n",
       "19   64.694496  235.148041  39.064552"
      ]
     },
     "execution_count": 59,
     "metadata": {},
     "output_type": "execute_result"
    }
   ],
   "source": [
    "# Create a pandas DataFrame and put the x, Er, y vectors\n",
    "df_slr = pd.DataFrame({'x': x, 'y': y, 'error': Er})\n",
    "df_slr"
   ]
  },
  {
   "cell_type": "markdown",
   "id": "e55c2ab3",
   "metadata": {},
   "source": [
    "### Part A: Analyzing synthetic data\n",
    "\n",
    "In this part, you will analyze the synthetic dataset you generated using basic statistical tools and linear regression formulas.\n",
    "\n",
    "You may use either `numPy` or `pandas` for your calculations.\n",
    "\n",
    "With the above synthetic data: \n",
    "\n",
    "* a) Compute the sample means $\\bar{x}$, $\\bar{y}$ and the sample variance $s_{xx}$ and covariance $s_{xy}$ .\n",
    "\n",
    "* b) Using the formulas presented in the lecture, calculate the estimated coefficients of the least-squares line: $\\hat{y}=\\hat{\\beta}_0+\\hat{\\beta}_1x$. Compare your estimated coefficients with the **true values** used to generate the data: $(\\beta_0,\\beta_1)=(2,3)$ What do you observe? How close are they? What could explain any differences?\n",
    "\n",
    "* c) Plot the regression line, least-squares line and the data samples on the same graph. Use appropriate labels and a legend to clearly distinguish each line and the data points.\n",
    "\n",
    "**Optional:** You can later compare your results with those from `scikit-learn` implementation of simple linear regression."
   ]
  },
  {
   "cell_type": "markdown",
   "id": "3d41484c",
   "metadata": {},
   "source": [
    "#### Answer:"
   ]
  },
  {
   "cell_type": "code",
   "execution_count": 60,
   "id": "54ba7c91",
   "metadata": {},
   "outputs": [
    {
     "name": "stdout",
     "output_type": "stream",
     "text": [
      "Mean of x: 65.98951164926079\n",
      "Mean of y: 206.60995782891467\n",
      "Sample variance of x: 1250.9885169632728\n",
      "Sample covariance of x and y: 3936.735127987621\n",
      "Beta 1: 3.1468994915667943\n",
      "Beta 0: -1.052402828885164\n",
      " The Value of B1 is very close to that of the orginial Beta 1 coefficient, However, the Value of B0 is imperfect and far from the original Beta 0 coefficient. \n",
      " That could be explained by the small amount of the generated data as well as the error factor\n",
      "Question C:\n",
      "\n"
     ]
    },
    {
     "data": {
      "image/png": "[encoded data removed]",
      "text/plain": [
       "<Figure size 720x432 with 1 Axes>"
      ]
     },
     "metadata": {
      "needs_background": "light"
     },
     "output_type": "display_data"
    }
   ],
   "source": [
    "## TODO:\n",
    "mean_x = np.mean(df_slr['x'])\n",
    "print(\"Mean of x:\", mean_x)\n",
    "mean_y = np.mean(df_slr['y'])\n",
    "print(\"Mean of y:\", mean_y)\n",
    "\n",
    "var_x =np.var(df_slr['x'], ddof=1)   \n",
    "print(\"Sample variance of x:\", var_x)\n",
    "\n",
    "cov_xy = np.cov(df_slr['x'], df_slr['y'], bias=False)[0][1]\n",
    "print(\"Sample covariance of x and y:\", cov_xy)\n",
    "\n",
    "\n",
    "B1= cov_xy/var_x\n",
    "print(\"Beta 1:\", B1)\n",
    "B0= mean_y - B1*mean_x\n",
    "print(\"Beta 0:\", B0)\n",
    "\n",
    "print(\" The Value of B1 is very close to that of the orginial Beta 1 coefficient, However, the Value of B0 is imperfect and far from the original Beta 0 coefficient. \\n That could be explained by the small amount of the generated data as well as the error factor\")\n",
    "\n",
    "\n",
    "print(\"Question C:\\n\")\n",
    "\n",
    "import matplotlib.pyplot as plt\n",
    "import numpy as np\n",
    "\n",
    "true_beta_0 = 2\n",
    "true_beta_1 = 3\n",
    "\n",
    "beta_0_hat = -1.052402828885164\n",
    "beta_1_hat = 3.1468994915667943\n",
    "\n",
    "plt.figure(figsize=(10, 6))\n",
    "\n",
    "plt.scatter(df_slr['x'], df_slr['y'], color='blue', alpha=0.6, s=50, \n",
    "            label='Data points', zorder=3)\n",
    "\n",
    "x_line = np.linspace(df_slr['x'].min(), df_slr['x'].max(), 100)\n",
    "y_true = true_beta_0 + true_beta_1 * x_line\n",
    "plt.plot(x_line, y_true, color='green', linewidth=2, linestyle='--',\n",
    "         label=f'True regression line: y = {true_beta_0} + {true_beta_1}x', zorder=2)\n",
    "\n",
    "y_estimated = beta_0_hat + beta_1_hat * x_line\n",
    "plt.plot(x_line, y_estimated, color='red', linewidth=2,\n",
    "         label=f'Least-squares line: ŷ = {beta_0_hat:.2f} + {beta_1_hat:.2f}x', zorder=2)\n",
    "\n",
    "plt.xlabel('x', fontsize=12)\n",
    "plt.ylabel('y', fontsize=12)\n",
    "plt.title('Simple Linear Regression: True vs Estimated', fontsize=14, fontweight='bold')\n",
    "plt.legend(loc='best', fontsize=10)\n",
    "plt.grid(True, alpha=0.3)\n",
    "\n",
    "plt.tight_layout()\n",
    "plt.show()"
   ]
  },
  {
   "cell_type": "markdown",
   "id": "df463ae9",
   "metadata": {},
   "source": [
    "### Part B: Visualizing data distribution\n",
    "\n",
    "In this section, you'll explore the distribution of the input feature $x$ using visual tools. You can use either `matplotlib` or `pandas` for this part.\n",
    "\n",
    "* d) Create a boxplot of the variable $x$ to examine its distribution. This will help you identify the spread, central tendency and possible outliers.\n",
    "\n",
    "* e) Based on the boxplot, how would you describe the distribution of $x$? Symmetric, left-skewed, right-skewed or uniform?\n",
    "\n",
    "* f) What does the interquartile range (IQR) tell you about the spread of $x$ values?\n",
    "\n",
    "* g) Are there any outliers in the feature $x$ based on the boxplot? What would cause them to appear or not appear in a asynthetic dataset like this?"
   ]
  },
  {
   "cell_type": "markdown",
   "id": "94fd0a02",
   "metadata": {},
   "source": [
    "#### Answer:"
   ]
  },
  {
   "cell_type": "code",
   "execution_count": 61,
   "id": "0e303ca4",
   "metadata": {},
   "outputs": [
    {
     "name": "stdout",
     "output_type": "stream",
     "text": [
      "Question D:\n",
      "\n"
     ]
    },
    {
     "data": {
      "image/png": "[encoded data removed]",
      "text/plain": [
       "<Figure size 576x432 with 1 Axes>"
      ]
     },
     "metadata": {
      "needs_background": "light"
     },
     "output_type": "display_data"
    },
    {
     "name": "stdout",
     "output_type": "stream",
     "text": [
      "Question E:\n",
      "\n",
      "The distribution of x is slightly left skewed\n",
      "\n",
      "Question F:\n",
      "\n",
      "I notice from the IQR that the x values are pretty  high and many \n",
      "\n",
      "Question G:\n",
      "\n",
      "No there aren't any outliers, It doesn't appear in this dataset because for the random seed generated, no Extremly low and high outliers were created\n",
      "\n"
     ]
    }
   ],
   "source": [
    "## TODO:\n",
    "print(\"Question D:\\n\")\n",
    "plt.figure(figsize=(8, 6))\n",
    "\n",
    "plt.boxplot(df_slr['x'], vert=True, patch_artist=True, \n",
    "            boxprops=dict(facecolor='lightblue', color='blue'),\n",
    "            medianprops=dict(color='red', linewidth=2),\n",
    "            whiskerprops=dict(color='blue'),\n",
    "            capprops=dict(color='blue'))\n",
    "\n",
    "plt.title('Boxplot of Variable x', fontsize=14, fontweight='bold')\n",
    "plt.ylabel('x values', fontsize=12)\n",
    "plt.xticks([1], ['x'], fontsize=12)\n",
    "plt.grid(True, axis='y', alpha=0.3)\n",
    "\n",
    "\n",
    "plt.tight_layout()\n",
    "plt.show()\n",
    "\n",
    "print(\"Question E:\\n\")\n",
    "print(\"The distribution of x is slightly left skewed\\n\")\n",
    "\n",
    "print(\"Question F:\\n\")\n",
    "print(\"I notice from the IQR that the x values are pretty  high and many \\n\")\n",
    "\n",
    "print(\"Question G:\\n\")\n",
    "print(\"No there aren't any outliers, It doesn't appear in this dataset because for the random seed generated, no Extremly low and high outliers were created\\n\")\n",
    "\n"
   ]
  },
  {
   "cell_type": "markdown",
   "id": "2001ba9e",
   "metadata": {},
   "source": [
    "### Part C: Evaluating Model Accuracy\n",
    "\n",
    "In this section, you will assess how well your regression model fits the synthetic data using standard evaluation metrics. These metrics help quantify the accuracy and reliability of your predictions.\n",
    "\n",
    "* h) Compute the Residual Standard Error (RSE) and the Mean Squared Error (MSE). What do they tell about the accuracy of the model?\n",
    "\n",
    "* **Reminder:** The relationship between MSE and RSE is given by: $MSE := \\frac{1}{n}RSS = \\frac{n-2}{n}RSE^2$.\n",
    "\n",
    "* i) Compute the coefficient of determination ($R^2$-statistic). What does it tell about the accuracy of the model?\n",
    "\n",
    "* j) Calculate the $95\\%$ confidence intervals for the estimated coefficients. Do the real coefficients $\\beta_0=2$ and $\\beta_1=3$ fall within these intervals?\n",
    "\n",
    "**Optional:** You may compare your manually calculated metrics and intervals with those obtained using `scikit-learn`'s `LinearRegression` implementation."
   ]
  },
  {
   "cell_type": "markdown",
   "id": "ba53df52",
   "metadata": {},
   "source": [
    "#### Answer:"
   ]
  },
  {
   "cell_type": "code",
   "execution_count": 62,
   "id": "ea967bca",
   "metadata": {},
   "outputs": [
    {
     "name": "stdout",
     "output_type": "stream",
     "text": [
      "Question H:\n",
      "\n",
      "RSS: 28832.64282944977\n",
      "RSE: 40.02266221186426\n",
      "MSE direct (RSS/n): 1441.6321414724885\n",
      "MSE from RSE ((n-2)/n * RSE^2): 1441.6321414724885\n",
      "Conclusion:\n",
      " The RSE of 40 means that the predicted values are + or - 40 close to the actual values, which isn't bad considering we are working with\n",
      " synthetic randomly generated data. This last statement is also the reason the MSE is high since the model can't be extremely accurate with\n",
      " such configuration\n",
      "Question i:\n",
      "\n",
      "Coefficient of Determination (R²): 0.8908740377860237\n",
      "This value indicates that the predicted values of Y and their variations closely follow the X variations and only leaves 11 percent\n",
      " of inaccuracy and error.\n",
      "\n",
      "Question j:\n",
      "\n",
      "n = 20\n",
      "beta1 = 3.1468994915667943 SE = 0.2595986988564753 95% CI = (2.6015028635213495, 3.692296119612239)\n",
      "beta0 = -1.052402828885164 SE = 19.327562888933162 95% CI = (-41.65810568638809, 39.55330002861776)\n",
      "beta1=3 inside CI? True\n",
      "beta0=2 inside CI? True\n"
     ]
    }
   ],
   "source": [
    "## TODO:\n",
    "y_pred = B0 + B1 * df_slr['x']\n",
    "\n",
    "print(\"Question H:\\n\")\n",
    "RSS = np.sum((df_slr['y'] - y_pred) ** 2)\n",
    "print(\"RSS:\", RSS)\n",
    "\n",
    "RSE = np.sqrt(RSS / (n - 2))\n",
    "print(\"RSE:\", RSE)\n",
    "\n",
    "MSE_direct = np.mean((df_slr['y'] - y_pred) ** 2)\n",
    "print(\"MSE direct (RSS/n):\", MSE_direct)\n",
    "\n",
    "MSE_from_RSE = ((n - 2) / n) * (RSE**2)\n",
    "print(\"MSE from RSE ((n-2)/n * RSE^2):\", MSE_from_RSE)\n",
    "\n",
    "print(\"Conclusion:\\n The RSE of 40 means that the predicted values are + or - 40 close to the actual values, which isn't bad considering we are working with\\n synthetic randomly generated data. This last statement is also the reason the MSE is high since the model can't be extremely accurate with\\n such configuration\")\n",
    "print(\"Question i:\\n\")\n",
    "TSS = np.sum((df_slr['y'] - np.mean(df_slr['y'])) ** 2)\n",
    "\n",
    "R2 = 1 - (RSS / TSS)\n",
    "print(\"Coefficient of Determination (R²):\", R2)\n",
    "print(\"This value indicates that the predicted values of Y and their variations closely follow the X variations and only leaves 11 percent\\n of inaccuracy and error.\\n\")\n",
    "\n",
    "print(\"Question j:\\n\")\n",
    "import numpy as np\n",
    "from scipy import stats\n",
    "\n",
    "residuals = y - y_pred\n",
    "\n",
    "\n",
    "RSS = np.sum(residuals**2)\n",
    "sigma2 = RSS / (n - 2)   \n",
    "sigma = np.sqrt(sigma2)\n",
    "\n",
    "\n",
    "Sxx = np.sum((x - mean_x)**2)\n",
    "\n",
    "SE_beta1 = np.sqrt(sigma2 / Sxx)\n",
    "SE_beta0 = np.sqrt(sigma2 * (1.0/n + mean_x**2 / Sxx))\n",
    "\n",
    "alpha = 0.05\n",
    "t_crit = stats.t.ppf(1 - alpha/2, df=n-2)\n",
    "\n",
    "ci_beta1 = (B1 - t_crit * SE_beta1, B1 + t_crit * SE_beta1)\n",
    "ci_beta0 = (B0 - t_crit * SE_beta0, B0 + t_crit * SE_beta0)\n",
    "\n",
    "print(\"n =\", n)\n",
    "print(\"beta1 =\", B1, \"SE =\", SE_beta1, \"95% CI =\", ci_beta1)\n",
    "print(\"beta0 =\", B0, \"SE =\", SE_beta0, \"95% CI =\", ci_beta0)\n",
    "\n",
    "\n",
    "true_beta0 = 2.0\n",
    "true_beta1 = 3.0\n",
    "print(\"beta1=3 inside CI?\", ci_beta1[0] <= true_beta1 <= ci_beta1[1])\n",
    "print(\"beta0=2 inside CI?\", ci_beta0[0] <= true_beta0 <= ci_beta0[1])\n",
    "\n",
    "\n",
    "\n",
    "\n",
    "\n"
   ]
  },
  {
   "cell_type": "markdown",
   "id": "4ded0904",
   "metadata": {},
   "source": [
    "## 📝 Exercise 2: Multiple Linear Regression"
   ]
  },
  {
   "cell_type": "markdown",
   "id": "c73a411b",
   "metadata": {},
   "source": [
    "In this exercise, we will extend simple linear regression to a **multi-variable setting**. Specifically, we work on problems of multi-linear regression with multiple input features and examine how each input feature contributes to predicting the output variable."
   ]
  },
  {
   "cell_type": "markdown",
   "id": "a1026e8e",
   "metadata": {},
   "source": [
    "We work with a multiple linear regression model using 4 input features. \n",
    "\n",
    "The regression model is: $y = \\beta_0 + \\beta_1x_1 + \\beta_2x_2 + \\beta_3x_3 + \\beta_4x_4 + \\epsilon$\n",
    "\n",
    "where:\n",
    "- $x_1$, $x_2$, $x_3$ are features that influence $y$\n",
    "- $x_4$ is constructed as noise: $x_4=np.ones(n)+Er$, meaning it should not have any true effect on the target $y$."
   ]
  },
  {
   "cell_type": "markdown",
   "id": "b1dcca25",
   "metadata": {},
   "source": [
    "### Step 1: Generate Synthetic Data\n",
    "\n",
    "We use the `genSample()` function again to simulate a dataset with multiple features. You can adjust the number of features via the `size` parameter.\n",
    "\n",
    "- The model is still based on: $Y = \\beta_0 + \\beta_1 x_1 + \\beta_2 x_2 + \\dots + \\beta_d x_d + \\varepsilon$\n",
    "- We'll use a fixed seed for reproducibility.\n",
    "- The noise term $\\varepsilon \\sim \\mathcal{N}(0, \\sigma^2)$ adds randomness, simulating real-world measurement error."
   ]
  },
  {
   "cell_type": "code",
   "execution_count": 63,
   "id": "7e347fb6",
   "metadata": {},
   "outputs": [],
   "source": [
    "# Define parameters for synthetic data generation\n",
    "n = 100 # sample size\n",
    "b0 = 2 # real intercept (unobserved)\n",
    "b1 = np.array([3, 7, 20])   # real slope (unobserved) for 3 input features\n",
    "xl, xh = 0, 120 # input range for features\n",
    "sigmae = 30 # standard deviation for error term"
   ]
  },
  {
   "cell_type": "code",
   "execution_count": 64,
   "id": "e14599a5",
   "metadata": {},
   "outputs": [],
   "source": [
    "# Generate synthetic data using the true model and added Gaussian noise\n",
    "(xM,yM,ErM) = genSample(n, b0, b1, sigmae, xl, xh, seedit=199, size=len(b1))\n",
    "x_extra = 1 + ErM   # This variable has no real meaning, just noise centered around 1\n",
    "xM.append(x_extra)  # Now xM has 4 features: [x1, x2, x3, x_extra]\n",
    "yM += xM[-1]        # Modify yM so x_extra appears to influence y"
   ]
  },
  {
   "cell_type": "markdown",
   "id": "d83527b6",
   "metadata": {},
   "source": [
    "### Step 2: Visualize Data\n",
    "\n",
    "We collect the generated features, target variable, and noise into a structured format using a `pandas.DataFrame`."
   ]
  },
  {
   "cell_type": "code",
   "execution_count": 65,
   "id": "944bc446",
   "metadata": {},
   "outputs": [
    {
     "data": {
      "text/html": [
       "<div>\n",
       "<style scoped>\n",
       "    .dataframe tbody tr th:only-of-type {\n",
       "        vertical-align: middle;\n",
       "    }\n",
       "\n",
       "    .dataframe tbody tr th {\n",
       "        vertical-align: top;\n",
       "    }\n",
       "\n",
       "    .dataframe thead th {\n",
       "        text-align: right;\n",
       "    }\n",
       "</style>\n",
       "<table border=\"1\" class=\"dataframe\">\n",
       "  <thead>\n",
       "    <tr style=\"text-align: right;\">\n",
       "      <th></th>\n",
       "      <th>x1</th>\n",
       "      <th>x2</th>\n",
       "      <th>x3</th>\n",
       "      <th>x4</th>\n",
       "      <th>error</th>\n",
       "      <th>y_mult</th>\n",
       "    </tr>\n",
       "  </thead>\n",
       "  <tbody>\n",
       "    <tr>\n",
       "      <th>0</th>\n",
       "      <td>78.575003</td>\n",
       "      <td>113.715871</td>\n",
       "      <td>13.668552</td>\n",
       "      <td>34.242144</td>\n",
       "      <td>33.242144</td>\n",
       "      <td>1374.591433</td>\n",
       "    </tr>\n",
       "    <tr>\n",
       "      <th>1</th>\n",
       "      <td>117.844714</td>\n",
       "      <td>27.185691</td>\n",
       "      <td>89.745699</td>\n",
       "      <td>-8.668335</td>\n",
       "      <td>-9.668335</td>\n",
       "      <td>2322.411282</td>\n",
       "    </tr>\n",
       "    <tr>\n",
       "      <th>2</th>\n",
       "      <td>47.988564</td>\n",
       "      <td>71.330417</td>\n",
       "      <td>73.327127</td>\n",
       "      <td>69.662316</td>\n",
       "      <td>68.662316</td>\n",
       "      <td>2250.145793</td>\n",
       "    </tr>\n",
       "    <tr>\n",
       "      <th>3</th>\n",
       "      <td>101.298312</td>\n",
       "      <td>51.397042</td>\n",
       "      <td>97.163016</td>\n",
       "      <td>-54.363474</td>\n",
       "      <td>-55.363474</td>\n",
       "      <td>2499.207612</td>\n",
       "    </tr>\n",
       "    <tr>\n",
       "      <th>4</th>\n",
       "      <td>55.661082</td>\n",
       "      <td>91.696882</td>\n",
       "      <td>85.542899</td>\n",
       "      <td>-45.022414</td>\n",
       "      <td>-46.022414</td>\n",
       "      <td>2430.674574</td>\n",
       "    </tr>\n",
       "    <tr>\n",
       "      <th>...</th>\n",
       "      <td>...</td>\n",
       "      <td>...</td>\n",
       "      <td>...</td>\n",
       "      <td>...</td>\n",
       "      <td>...</td>\n",
       "      <td>...</td>\n",
       "    </tr>\n",
       "    <tr>\n",
       "      <th>95</th>\n",
       "      <td>8.854235</td>\n",
       "      <td>61.968206</td>\n",
       "      <td>60.400340</td>\n",
       "      <td>20.917828</td>\n",
       "      <td>19.917828</td>\n",
       "      <td>1711.182607</td>\n",
       "    </tr>\n",
       "    <tr>\n",
       "      <th>96</th>\n",
       "      <td>25.821316</td>\n",
       "      <td>81.436553</td>\n",
       "      <td>113.898221</td>\n",
       "      <td>49.849389</td>\n",
       "      <td>48.849389</td>\n",
       "      <td>3026.183015</td>\n",
       "    </tr>\n",
       "    <tr>\n",
       "      <th>97</th>\n",
       "      <td>28.996218</td>\n",
       "      <td>8.222232</td>\n",
       "      <td>1.510316</td>\n",
       "      <td>4.260805</td>\n",
       "      <td>3.260805</td>\n",
       "      <td>184.272200</td>\n",
       "    </tr>\n",
       "    <tr>\n",
       "      <th>98</th>\n",
       "      <td>45.852941</td>\n",
       "      <td>104.255477</td>\n",
       "      <td>104.346202</td>\n",
       "      <td>23.016888</td>\n",
       "      <td>22.016888</td>\n",
       "      <td>3001.304969</td>\n",
       "    </tr>\n",
       "    <tr>\n",
       "      <th>99</th>\n",
       "      <td>52.982361</td>\n",
       "      <td>46.669683</td>\n",
       "      <td>54.960026</td>\n",
       "      <td>47.803412</td>\n",
       "      <td>46.803412</td>\n",
       "      <td>1681.442202</td>\n",
       "    </tr>\n",
       "  </tbody>\n",
       "</table>\n",
       "<p>100 rows × 6 columns</p>\n",
       "</div>"
      ],
      "text/plain": [
       "            x1          x2          x3         x4      error       y_mult\n",
       "0    78.575003  113.715871   13.668552  34.242144  33.242144  1374.591433\n",
       "1   117.844714   27.185691   89.745699  -8.668335  -9.668335  2322.411282\n",
       "2    47.988564   71.330417   73.327127  69.662316  68.662316  2250.145793\n",
       "3   101.298312   51.397042   97.163016 -54.363474 -55.363474  2499.207612\n",
       "4    55.661082   91.696882   85.542899 -45.022414 -46.022414  2430.674574\n",
       "..         ...         ...         ...        ...        ...          ...\n",
       "95    8.854235   61.968206   60.400340  20.917828  19.917828  1711.182607\n",
       "96   25.821316   81.436553  113.898221  49.849389  48.849389  3026.183015\n",
       "97   28.996218    8.222232    1.510316   4.260805   3.260805   184.272200\n",
       "98   45.852941  104.255477  104.346202  23.016888  22.016888  3001.304969\n",
       "99   52.982361   46.669683   54.960026  47.803412  46.803412  1681.442202\n",
       "\n",
       "[100 rows x 6 columns]"
      ]
     },
     "execution_count": 65,
     "metadata": {},
     "output_type": "execute_result"
    }
   ],
   "source": [
    "# Create a structured DataFrame for visual inspection\n",
    "dataM = {'x1': xM[0], 'x2' : xM[1],'x3' : xM[2] ,'x4': xM[3], 'error': ErM, 'y_mult': yM}\n",
    "df_slrM = pd.DataFrame(data=dataM)\n",
    "df_slrM"
   ]
  },
  {
   "cell_type": "markdown",
   "id": "3236e786",
   "metadata": {},
   "source": [
    "### Step 3: Analysis & Interpretation of Regression Results\n",
    "\n",
    "Now that you’ve generated and organized the synthetic dataset, analyze the statistical properties of the regression models and understand the role of each input feature.\n",
    "\n",
    "* a) For the above multi-regression model, estimate the unknown regression coefficients $(\\beta_0,...,\\beta_4)$ using all four features. Also compute the p-values, F-statistic and $R^2$ score for each feature. What do the p-values and F-statistic tell you about which features are truly significant?\n",
    "\n",
    "* b) Fit a multi-regression model only using $(x_2,x_4)$. Estimate the coefficients and determine the p-values, F-statistic and $R^2$ score again. How do the p-values and F-statistic compare with results from part (a)? What does this imply? Are all the features relevant to the model?\n",
    "\n",
    "* c) Fit four seperate single-feature regression models (one for each variable $x_i$). Compare the estimated slopes $\\beta_1$, $\\ldots$, $\\beta_4$ from these single-variable models to those from the multi-variable model in part (a). What do you notice?\n",
    "\n",
    "* d) Compare the answers from (a), (b), (c). What do you observe? Explain.\n",
    "\n",
    "**Hint 1:** Use `LinearRegression()` from `scikit-learn` and create a linear regression object.\n",
    "\n",
    "**Hint 2:** For the p-values and the F-statistic, you can use the scikit-learn command `sklearn.feature_selection.f_regression`\n",
    "\n",
    "scikit documnetation: https://scikit-learn.org/stable/modules/generated/sklearn.feature_selection.f_regression.html"
   ]
  },
  {
   "cell_type": "markdown",
   "id": "99e96660",
   "metadata": {},
   "source": [
    "#### Answer:\n",
    "\n",
    "Here is the answer for part (a) using `statsmodels`, you need to do it with `scikit-learn`."
   ]
  },
  {
   "cell_type": "code",
   "execution_count": 66,
   "id": "3b44c3b6",
   "metadata": {},
   "outputs": [
    {
     "data": {
      "text/html": [
       "<table class=\"simpletable\">\n",
       "<caption>OLS Regression Results</caption>\n",
       "<tr>\n",
       "  <th>Dep. Variable:</th>         <td>y_mult</td>      <th>  R-squared:         </th> <td>   1.000</td> \n",
       "</tr>\n",
       "<tr>\n",
       "  <th>Model:</th>                   <td>OLS</td>       <th>  Adj. R-squared:    </th> <td>   1.000</td> \n",
       "</tr>\n",
       "<tr>\n",
       "  <th>Method:</th>             <td>Least Squares</td>  <th>  F-statistic:       </th> <td>1.219e+31</td>\n",
       "</tr>\n",
       "<tr>\n",
       "  <th>Date:</th>             <td>Sat, 11 Oct 2025</td> <th>  Prob (F-statistic):</th>  <td>  0.00</td>  \n",
       "</tr>\n",
       "<tr>\n",
       "  <th>Time:</th>                 <td>13:15:33</td>     <th>  Log-Likelihood:    </th> <td>  2614.5</td> \n",
       "</tr>\n",
       "<tr>\n",
       "  <th>No. Observations:</th>      <td>   100</td>      <th>  AIC:               </th> <td>  -5219.</td> \n",
       "</tr>\n",
       "<tr>\n",
       "  <th>Df Residuals:</th>          <td>    95</td>      <th>  BIC:               </th> <td>  -5206.</td> \n",
       "</tr>\n",
       "<tr>\n",
       "  <th>Df Model:</th>              <td>     4</td>      <th>                     </th>     <td> </td>    \n",
       "</tr>\n",
       "<tr>\n",
       "  <th>Covariance Type:</th>      <td>nonrobust</td>    <th>                     </th>     <td> </td>    \n",
       "</tr>\n",
       "</table>\n",
       "<table class=\"simpletable\">\n",
       "<tr>\n",
       "    <td></td>       <th>coef</th>     <th>std err</th>      <th>t</th>      <th>P>|t|</th>  <th>[0.025</th>    <th>0.975]</th>  \n",
       "</tr>\n",
       "<tr>\n",
       "  <th>const</th> <td>    1.0000</td> <td> 3.43e-13</td> <td> 2.91e+12</td> <td> 0.000</td> <td>    1.000</td> <td>    1.000</td>\n",
       "</tr>\n",
       "<tr>\n",
       "  <th>x1</th>    <td>    3.0000</td> <td> 3.19e-15</td> <td> 9.42e+14</td> <td> 0.000</td> <td>    3.000</td> <td>    3.000</td>\n",
       "</tr>\n",
       "<tr>\n",
       "  <th>x2</th>    <td>    7.0000</td> <td> 3.03e-15</td> <td> 2.31e+15</td> <td> 0.000</td> <td>    7.000</td> <td>    7.000</td>\n",
       "</tr>\n",
       "<tr>\n",
       "  <th>x3</th>    <td>   20.0000</td> <td> 3.11e-15</td> <td> 6.43e+15</td> <td> 0.000</td> <td>   20.000</td> <td>   20.000</td>\n",
       "</tr>\n",
       "<tr>\n",
       "  <th>x4</th>    <td>    2.0000</td> <td> 3.69e-15</td> <td> 5.42e+14</td> <td> 0.000</td> <td>    2.000</td> <td>    2.000</td>\n",
       "</tr>\n",
       "</table>\n",
       "<table class=\"simpletable\">\n",
       "<tr>\n",
       "  <th>Omnibus:</th>       <td> 4.160</td> <th>  Durbin-Watson:     </th> <td>   0.484</td>\n",
       "</tr>\n",
       "<tr>\n",
       "  <th>Prob(Omnibus):</th> <td> 0.125</td> <th>  Jarque-Bera (JB):  </th> <td>   2.394</td>\n",
       "</tr>\n",
       "<tr>\n",
       "  <th>Skew:</th>          <td> 0.132</td> <th>  Prob(JB):          </th> <td>   0.302</td>\n",
       "</tr>\n",
       "<tr>\n",
       "  <th>Kurtosis:</th>      <td> 2.289</td> <th>  Cond. No.          </th> <td>    350.</td>\n",
       "</tr>\n",
       "</table><br/><br/>Notes:<br/>[1] Standard Errors assume that the covariance matrix of the errors is correctly specified."
      ],
      "text/latex": [
       "\\begin{center}\n",
       "\\begin{tabular}{lclc}\n",
       "\\toprule\n",
       "\\textbf{Dep. Variable:}    &     y\\_mult      & \\textbf{  R-squared:         } &     1.000   \\\\\n",
       "\\textbf{Model:}            &       OLS        & \\textbf{  Adj. R-squared:    } &     1.000   \\\\\n",
       "\\textbf{Method:}           &  Least Squares   & \\textbf{  F-statistic:       } & 1.219e+31   \\\\\n",
       "\\textbf{Date:}             & Sat, 11 Oct 2025 & \\textbf{  Prob (F-statistic):} &     0.00    \\\\\n",
       "\\textbf{Time:}             &     13:15:33     & \\textbf{  Log-Likelihood:    } &    2614.5   \\\\\n",
       "\\textbf{No. Observations:} &         100      & \\textbf{  AIC:               } &    -5219.   \\\\\n",
       "\\textbf{Df Residuals:}     &          95      & \\textbf{  BIC:               } &    -5206.   \\\\\n",
       "\\textbf{Df Model:}         &           4      & \\textbf{                     } &             \\\\\n",
       "\\textbf{Covariance Type:}  &    nonrobust     & \\textbf{                     } &             \\\\\n",
       "\\bottomrule\n",
       "\\end{tabular}\n",
       "\\begin{tabular}{lcccccc}\n",
       "               & \\textbf{coef} & \\textbf{std err} & \\textbf{t} & \\textbf{P$> |$t$|$} & \\textbf{[0.025} & \\textbf{0.975]}  \\\\\n",
       "\\midrule\n",
       "\\textbf{const} &       1.0000  &     3.43e-13     &  2.91e+12  &         0.000        &        1.000    &        1.000     \\\\\n",
       "\\textbf{x1}    &       3.0000  &     3.19e-15     &  9.42e+14  &         0.000        &        3.000    &        3.000     \\\\\n",
       "\\textbf{x2}    &       7.0000  &     3.03e-15     &  2.31e+15  &         0.000        &        7.000    &        7.000     \\\\\n",
       "\\textbf{x3}    &      20.0000  &     3.11e-15     &  6.43e+15  &         0.000        &       20.000    &       20.000     \\\\\n",
       "\\textbf{x4}    &       2.0000  &     3.69e-15     &  5.42e+14  &         0.000        &        2.000    &        2.000     \\\\\n",
       "\\bottomrule\n",
       "\\end{tabular}\n",
       "\\begin{tabular}{lclc}\n",
       "\\textbf{Omnibus:}       &  4.160 & \\textbf{  Durbin-Watson:     } &    0.484  \\\\\n",
       "\\textbf{Prob(Omnibus):} &  0.125 & \\textbf{  Jarque-Bera (JB):  } &    2.394  \\\\\n",
       "\\textbf{Skew:}          &  0.132 & \\textbf{  Prob(JB):          } &    0.302  \\\\\n",
       "\\textbf{Kurtosis:}      &  2.289 & \\textbf{  Cond. No.          } &     350.  \\\\\n",
       "\\bottomrule\n",
       "\\end{tabular}\n",
       "%\\caption{OLS Regression Results}\n",
       "\\end{center}\n",
       "\n",
       "Notes: \\newline\n",
       " [1] Standard Errors assume that the covariance matrix of the errors is correctly specified."
      ],
      "text/plain": [
       "<class 'statsmodels.iolib.summary.Summary'>\n",
       "\"\"\"\n",
       "                            OLS Regression Results                            \n",
       "==============================================================================\n",
       "Dep. Variable:                 y_mult   R-squared:                       1.000\n",
       "Model:                            OLS   Adj. R-squared:                  1.000\n",
       "Method:                 Least Squares   F-statistic:                 1.219e+31\n",
       "Date:                Sat, 11 Oct 2025   Prob (F-statistic):               0.00\n",
       "Time:                        13:15:33   Log-Likelihood:                 2614.5\n",
       "No. Observations:                 100   AIC:                            -5219.\n",
       "Df Residuals:                      95   BIC:                            -5206.\n",
       "Df Model:                           4                                         \n",
       "Covariance Type:            nonrobust                                         \n",
       "==============================================================================\n",
       "                 coef    std err          t      P>|t|      [0.025      0.975]\n",
       "------------------------------------------------------------------------------\n",
       "const          1.0000   3.43e-13   2.91e+12      0.000       1.000       1.000\n",
       "x1             3.0000   3.19e-15   9.42e+14      0.000       3.000       3.000\n",
       "x2             7.0000   3.03e-15   2.31e+15      0.000       7.000       7.000\n",
       "x3            20.0000   3.11e-15   6.43e+15      0.000      20.000      20.000\n",
       "x4             2.0000   3.69e-15   5.42e+14      0.000       2.000       2.000\n",
       "==============================================================================\n",
       "Omnibus:                        4.160   Durbin-Watson:                   0.484\n",
       "Prob(Omnibus):                  0.125   Jarque-Bera (JB):                2.394\n",
       "Skew:                           0.132   Prob(JB):                        0.302\n",
       "Kurtosis:                       2.289   Cond. No.                         350.\n",
       "==============================================================================\n",
       "\n",
       "Notes:\n",
       "[1] Standard Errors assume that the covariance matrix of the errors is correctly specified.\n",
       "\"\"\""
      ]
     },
     "execution_count": 66,
     "metadata": {},
     "output_type": "execute_result"
    }
   ],
   "source": [
    "# using pandas\n",
    "Xm = df_slrM[[\"x1\", \"x2\", \"x3\", \"x4\"]]\n",
    "Ym = df_slrM[\"y_mult\"]\n",
    "Xm = sm.add_constant(Xm) ## let's add an intercept (beta_0) to our model\n",
    "\n",
    "# Note the difference in argument order\n",
    "model = sm.OLS(Ym, Xm).fit()\n",
    "y_pred_OLS = model.predict(Xm) # make the predictions using SAME train data\n",
    "\n",
    "# Print out the statistics\n",
    "model.summary()"
   ]
  },
  {
   "cell_type": "code",
   "execution_count": 96,
   "id": "d4c3b1ee",
   "metadata": {},
   "outputs": [
    {
     "name": "stdout",
     "output_type": "stream",
     "text": [
      "Question a:\n",
      "\n",
      "Intercept (β₀): 1.0000000000002274\n",
      "Coefficients (β₁, β₂, β₃, β₄): [ 3.  7. 20.  2.]\n",
      "R² Score: 1.0\n",
      "x1: F = 3.0502, p-value = 0.083860\n",
      "x2: F = 12.8893, p-value = 0.000518\n",
      "x3: F = 651.8471, p-value = 0.000000\n",
      "x4: F = 0.0001, p-value = 0.991444\n",
      "Interpretation:\n",
      " The P-values for x2, and x3 are all below 0.05, indicating that these features are statistically significant (especially x3who is of very high importance) and provide useful information for predicting y.\n",
      " However, the p-value for x4 and x1 is higher than 0.05, meaning that x4 is not a significant predictor of y in this model and x1 is ot least importance than x2 and x3.\n",
      "Question b:\n",
      "\n",
      "Intercept (beta0): 1381.2745363620847\n",
      "x2: 7.211171341874727\n",
      "x4: 0.18219491015670977\n",
      "R² score: 0.11628643238312242\n",
      "\n",
      "Feature-wise F-statistics and p-values (from f_regression):\n",
      "x2: F = 12.8893, p-value = 0.000518\n",
      "x4: F = 0.0001, p-value = 0.991444\n",
      "Comparing the reduced model with x2 and x4 to the full model, we see that the R² drops drastically from 1.0 to 0.116, indicating that other features contribute significantly to explaining y. The p-values confirm that x4 is irrelevant. Therefore, not all features are relevant\n",
      "Question c:\n",
      "\n",
      "Single-variable models:\n",
      "x1: slope = 3.8526, R² = 0.0302\n",
      "x2: slope = 7.2076, R² = 0.1162\n",
      "x3: slope = 20.1300, R² = 0.8693\n",
      "x4: slope = -0.0278, R² = 0.0000\n",
      "From the different values given by the R² scores, We can see that the accuracy results of each feature-based model depends on the pertinence of said feature. Fr example, The X3-based model has a very high accruracy and high score given that the feature has a low p-value in the full model. Same goes for the X4-based model that has the worst Score since it has the highest (so worst) p-value in the original model\n",
      "\n",
      "Question d:\n",
      "\n",
      "we can see that feature selection is crucial since including all relevant features in the model (full model) maximizes accuracy and explains most of the variance in y, while using only a subset of features or single-feature models significantly reduces predictive performance\n",
      "\n"
     ]
    }
   ],
   "source": [
    "## TODO:\n",
    "\n",
    "from sklearn.linear_model import LinearRegression\n",
    "from sklearn.feature_selection import f_regression\n",
    "from sklearn.metrics import r2_score\n",
    "import pandas as pd\n",
    "\n",
    "print(\"Question a:\\n\")\n",
    "\n",
    "# Variables explicatives (X) et cible (y)\n",
    "Xm = df_slrM[[\"x1\", \"x2\", \"x3\", \"x4\"]]\n",
    "Ym = df_slrM[\"y_mult\"]\n",
    "# Créer et entraîner le modèle\n",
    "model = LinearRegression()\n",
    "model.fit(Xm, Ym)\n",
    "\n",
    "# Prédire sur les mêmes données\n",
    "y_pred = model.predict(Xm)\n",
    "print(\"Intercept (β₀):\", model.intercept_)\n",
    "print(\"Coefficients (β₁, β₂, β₃, β₄):\", model.coef_)\n",
    "\n",
    "R2 = r2_score(Ym, y_pred)\n",
    "print(\"R² Score:\", R2)\n",
    "\n",
    "from sklearn.feature_selection import f_regression\n",
    "\n",
    "F_values, p_values = f_regression(Xm, Ym)\n",
    "\n",
    "# Afficher les résultats\n",
    "for i, col in enumerate(Xm.columns):\n",
    "    print(f\"{col}: F = {F_values[i]:.4f}, p-value = {p_values[i]:.6f}\")\n",
    "\n",
    "print(\"Interpretation:\\n The P-values for x2, and x3 are all below 0.05, indicating that these features are statistically significant (especially x3who is of very high importance) and provide useful information for predicting y.\\n However, the p-value for x4 and x1 is higher than 0.05, meaning that x4 is not a significant predictor of y in this model and x1 is ot least importance than x2 and x3.\")\n",
    "\n",
    "print(\"Question b:\\n\")\n",
    "\n",
    "from scipy import stats\n",
    "\n",
    "# Select only x2 and x4\n",
    "X_24 = df_slrM[[\"x2\", \"x4\"]]\n",
    "y = df_slrM[\"y_mult\"]\n",
    "\n",
    "# Fit Linear Regression\n",
    "model_24 = LinearRegression().fit(X_24, y)\n",
    "y_pred_24 = model_24.predict(X_24)\n",
    "\n",
    "# Coefficients and intercept\n",
    "print(\"Intercept (beta0):\", model_24.intercept_)\n",
    "feature_names = [\"x2\", \"x4\"]\n",
    "for name, coef in zip(feature_names, model_24.coef_):\n",
    "    print(f\"{name}: {coef}\")\n",
    "\n",
    "# R^2 score\n",
    "R2_24= r2_score(y, y_pred_24)\n",
    "print(\"R² score:\", R2_24)\n",
    "\n",
    "# Feature-wise F-statistics and p-values (univariate)\n",
    "F_vals, p_vals = f_regression(X_24, y)\n",
    "print(\"\\nFeature-wise F-statistics and p-values (from f_regression):\")\n",
    "for name, Fv, pv in zip(feature_names, F_vals, p_vals):\n",
    "    print(f\"{name}: F = {Fv:.4f}, p-value = {pv:.6f}\")\n",
    "\n",
    "print(\"Comparing the reduced model with x2 and x4 to the full model, we see that the R² drops drastically from 1.0 to 0.116, indicating that other features contribute significantly to explaining y. The p-values confirm that x4 is irrelevant. Therefore, not all features are relevant\")\n",
    "\n",
    "\n",
    "print(\"Question c:\\n\")\n",
    "\n",
    "# Liste des features\n",
    "feature_names_2 = [\"x1\", \"x2\", \"x3\", \"x4\"]\n",
    "y = df_slrM[\"y_mult\"]\n",
    "\n",
    "\n",
    "# Ajuster un modèle séparé pour chaque feature\n",
    "print(\"Single-variable models:\")\n",
    "for i, feat in enumerate(feature_names_2):\n",
    "    X_single = df_slrM[[feat]]  # X doit être 2D\n",
    "    model = LinearRegression().fit(X_single, y)\n",
    "    coef_single = model.coef_[0]\n",
    "    y_pred = model.predict(X_single)\n",
    "    R2 = r2_score(y, y_pred)\n",
    "    print(f\"{feat}: slope = {coef_single:.4f}, R² = {R2:.4f}\")\n",
    "\n",
    "\n",
    "print(\"From the different values given by the R² scores, We can see that the accuracy results of each feature-based model depends on the pertinence of said feature. Fr example, The X3-based model has a very high accruracy and high score given that the feature has a low p-value in the full model. Same goes for the X4-based model that has the worst Score since it has the highest (so worst) p-value in the original model\\n\")\n",
    "\n",
    "print(\"Question d:\\n\")\n",
    "print(\"we can see that feature selection is crucial since including all relevant features in the model (full model) maximizes accuracy and explains most of the variance in y, while using only a subset of features or single-feature models significantly reduces predictive performance\\n\")\n"
   ]
  },
  {
   "cell_type": "markdown",
   "id": "1bdb775a",
   "metadata": {},
   "source": [
    "## 📝 Exercise 3: Univariate Linear Regression with Real Network Data"
   ]
  },
  {
   "cell_type": "markdown",
   "id": "1123a933",
   "metadata": {},
   "source": [
    "In this final exercise, we will apply a simple linear regression to a real-world dataset related to network traffic. \n",
    "\n",
    "The goal is to:\n",
    "- Load and explore a dataset\n",
    "- Select one numerical feature to predict a target variable\n",
    "- Train a linear regression model using **scikit-learn**\n",
    "- Visualize and interpret the results\n",
    "\n",
    "We will use tools provided in the course library and analyze actual features from network measurements."
   ]
  },
  {
   "cell_type": "markdown",
   "id": "384737be",
   "metadata": {},
   "source": [
    "### Dataset Overview: Requet Dataset\n",
    "\n",
    "We use a dataset of QoE prediction from [Requet dataset](https://github.com/Wimnet/RequetDataSet) — a public dataset designed for **real-time QoE detection** on encrypted YouTube traffic.\n",
    "- The goal is to predict QoE indicators, such as video resolution, based on traffic characteristics.\n",
    "- The dataset has already been cleaned and simplified for this lab exercise."
   ]
  },
  {
   "cell_type": "markdown",
   "id": "d4600901",
   "metadata": {},
   "source": [
    "### Step 1: Import Libraries\n",
    "\n",
    "Start by importing the libraries needed for data handling, modeling and visualization."
   ]
  },
  {
   "cell_type": "code",
   "execution_count": 68,
   "id": "44716aea",
   "metadata": {},
   "outputs": [],
   "source": [
    "# Import necessary libraries\n",
    "import pandas as pd # For dataframes (tables)\n",
    "import numpy as np\n",
    "import matplotlib.pyplot as plt # For plots\n",
    "import sklearn.linear_model\n",
    "from sklearn.linear_model import LinearRegression\n",
    "from sklearn.metrics import mean_squared_error, r2_score"
   ]
  },
  {
   "cell_type": "markdown",
   "id": "85318f72",
   "metadata": {},
   "source": [
    "### Step 2: Load the Dataset\n",
    "\n",
    "Make sure your dataset is accessible. This example assumes a file named `network_data.csv` is in the working directory. \n",
    "\n",
    "* a) Replace the filename with your actual path to the dataset."
   ]
  },
  {
   "cell_type": "markdown",
   "id": "ddddc88b",
   "metadata": {},
   "source": [
    "##### Answer:"
   ]
  },
  {
   "cell_type": "code",
   "execution_count": 97,
   "id": "322f8f9d",
   "metadata": {},
   "outputs": [],
   "source": [
    "# TODO:\n",
    "filename = \"network_data.csv\"\n",
    "df = pd.read_csv(filename)"
   ]
  },
  {
   "cell_type": "code",
   "execution_count": 98,
   "id": "e78d58b1",
   "metadata": {},
   "outputs": [
    {
     "data": {
      "text/html": [
       "<div>\n",
       "<style scoped>\n",
       "    .dataframe tbody tr th:only-of-type {\n",
       "        vertical-align: middle;\n",
       "    }\n",
       "\n",
       "    .dataframe tbody tr th {\n",
       "        vertical-align: top;\n",
       "    }\n",
       "\n",
       "    .dataframe thead th {\n",
       "        text-align: right;\n",
       "    }\n",
       "</style>\n",
       "<table border=\"1\" class=\"dataframe\">\n",
       "  <thead>\n",
       "    <tr style=\"text-align: right;\">\n",
       "      <th></th>\n",
       "      <th>RelativeTime</th>\n",
       "      <th>PacketsSent</th>\n",
       "      <th>PacketsReceived</th>\n",
       "      <th>BytesSent</th>\n",
       "      <th>BytesReceived</th>\n",
       "      <th>IPSrc0</th>\n",
       "      <th>IPDst0</th>\n",
       "      <th>Protocol0</th>\n",
       "      <th>PacketsSent0</th>\n",
       "      <th>PacketsReceived0</th>\n",
       "      <th>...</th>\n",
       "      <th>CollectData</th>\n",
       "      <th>EpochTime</th>\n",
       "      <th>StartTime</th>\n",
       "      <th>PlaybackProgress</th>\n",
       "      <th>Length</th>\n",
       "      <th>BufferHealth</th>\n",
       "      <th>BufferProgress</th>\n",
       "      <th>BufferValid</th>\n",
       "      <th>KBytesReceived</th>\n",
       "      <th>Resolution</th>\n",
       "    </tr>\n",
       "  </thead>\n",
       "  <tbody>\n",
       "    <tr>\n",
       "      <th>0</th>\n",
       "      <td>0.4</td>\n",
       "      <td>14</td>\n",
       "      <td>14</td>\n",
       "      <td>5351</td>\n",
       "      <td>12894</td>\n",
       "      <td>192.168.1.190</td>\n",
       "      <td>173.194.55.23</td>\n",
       "      <td>0</td>\n",
       "      <td>0</td>\n",
       "      <td>0</td>\n",
       "      <td>...</td>\n",
       "      <td>0</td>\n",
       "      <td>0</td>\n",
       "      <td>1520324862555</td>\n",
       "      <td>0.000</td>\n",
       "      <td>861.841</td>\n",
       "      <td>0.000</td>\n",
       "      <td>0.000000</td>\n",
       "      <td>-1</td>\n",
       "      <td>12.894</td>\n",
       "      <td>NoQualityInfo</td>\n",
       "    </tr>\n",
       "    <tr>\n",
       "      <th>1</th>\n",
       "      <td>6.1</td>\n",
       "      <td>29</td>\n",
       "      <td>57</td>\n",
       "      <td>2372</td>\n",
       "      <td>79344</td>\n",
       "      <td>192.168.1.190</td>\n",
       "      <td>173.194.55.23</td>\n",
       "      <td>QUIC</td>\n",
       "      <td>29</td>\n",
       "      <td>57</td>\n",
       "      <td>...</td>\n",
       "      <td>0</td>\n",
       "      <td>1520324868397</td>\n",
       "      <td>1520324862555</td>\n",
       "      <td>0.008</td>\n",
       "      <td>861.841</td>\n",
       "      <td>4.454</td>\n",
       "      <td>0.005177</td>\n",
       "      <td>true</td>\n",
       "      <td>79.344</td>\n",
       "      <td>q480p</td>\n",
       "    </tr>\n",
       "    <tr>\n",
       "      <th>2</th>\n",
       "      <td>2.2</td>\n",
       "      <td>18</td>\n",
       "      <td>21</td>\n",
       "      <td>2967</td>\n",
       "      <td>21708</td>\n",
       "      <td>192.168.1.190</td>\n",
       "      <td>74.125.155.199</td>\n",
       "      <td>0</td>\n",
       "      <td>0</td>\n",
       "      <td>0</td>\n",
       "      <td>...</td>\n",
       "      <td>0</td>\n",
       "      <td>0</td>\n",
       "      <td>1521147316421</td>\n",
       "      <td>0.000</td>\n",
       "      <td>817.841</td>\n",
       "      <td>0.000</td>\n",
       "      <td>0.000000</td>\n",
       "      <td>-1</td>\n",
       "      <td>21.708</td>\n",
       "      <td>NoQualityInfo</td>\n",
       "    </tr>\n",
       "    <tr>\n",
       "      <th>3</th>\n",
       "      <td>5.8</td>\n",
       "      <td>7</td>\n",
       "      <td>39</td>\n",
       "      <td>625</td>\n",
       "      <td>52973</td>\n",
       "      <td>192.168.1.190</td>\n",
       "      <td>74.125.155.199</td>\n",
       "      <td>QUIC</td>\n",
       "      <td>4</td>\n",
       "      <td>36</td>\n",
       "      <td>...</td>\n",
       "      <td>0</td>\n",
       "      <td>1521147321127</td>\n",
       "      <td>1521147316421</td>\n",
       "      <td>0.007</td>\n",
       "      <td>817.841</td>\n",
       "      <td>3.955</td>\n",
       "      <td>0.004844</td>\n",
       "      <td>true</td>\n",
       "      <td>52.973</td>\n",
       "      <td>q360p</td>\n",
       "    </tr>\n",
       "    <tr>\n",
       "      <th>4</th>\n",
       "      <td>0.1</td>\n",
       "      <td>18</td>\n",
       "      <td>20</td>\n",
       "      <td>2320</td>\n",
       "      <td>13466</td>\n",
       "      <td>192.168.1.190</td>\n",
       "      <td>173.194.54.236</td>\n",
       "      <td>0</td>\n",
       "      <td>0</td>\n",
       "      <td>0</td>\n",
       "      <td>...</td>\n",
       "      <td>0</td>\n",
       "      <td>0</td>\n",
       "      <td>1520279002790</td>\n",
       "      <td>0.000</td>\n",
       "      <td>638.981</td>\n",
       "      <td>0.000</td>\n",
       "      <td>0.000000</td>\n",
       "      <td>-1</td>\n",
       "      <td>13.466</td>\n",
       "      <td>NoQualityInfo</td>\n",
       "    </tr>\n",
       "  </tbody>\n",
       "</table>\n",
       "<p>5 rows × 200 columns</p>\n",
       "</div>"
      ],
      "text/plain": [
       "   RelativeTime  PacketsSent  PacketsReceived  BytesSent  BytesReceived  \\\n",
       "0           0.4           14               14       5351          12894   \n",
       "1           6.1           29               57       2372          79344   \n",
       "2           2.2           18               21       2967          21708   \n",
       "3           5.8            7               39        625          52973   \n",
       "4           0.1           18               20       2320          13466   \n",
       "\n",
       "           IPSrc0          IPDst0 Protocol0  PacketsSent0  PacketsReceived0  \\\n",
       "0   192.168.1.190   173.194.55.23         0             0                 0   \n",
       "1   192.168.1.190   173.194.55.23      QUIC            29                57   \n",
       "2   192.168.1.190  74.125.155.199         0             0                 0   \n",
       "3   192.168.1.190  74.125.155.199      QUIC             4                36   \n",
       "4   192.168.1.190  173.194.54.236         0             0                 0   \n",
       "\n",
       "   ...  CollectData      EpochTime      StartTime PlaybackProgress   Length  \\\n",
       "0  ...            0              0  1520324862555            0.000  861.841   \n",
       "1  ...            0  1520324868397  1520324862555            0.008  861.841   \n",
       "2  ...            0              0  1521147316421            0.000  817.841   \n",
       "3  ...            0  1521147321127  1521147316421            0.007  817.841   \n",
       "4  ...            0              0  1520279002790            0.000  638.981   \n",
       "\n",
       "   BufferHealth  BufferProgress  BufferValid  KBytesReceived     Resolution  \n",
       "0         0.000        0.000000           -1          12.894  NoQualityInfo  \n",
       "1         4.454        0.005177         true          79.344          q480p  \n",
       "2         0.000        0.000000           -1          21.708  NoQualityInfo  \n",
       "3         3.955        0.004844         true          52.973          q360p  \n",
       "4         0.000        0.000000           -1          13.466  NoQualityInfo  \n",
       "\n",
       "[5 rows x 200 columns]"
      ]
     },
     "execution_count": 98,
     "metadata": {},
     "output_type": "execute_result"
    }
   ],
   "source": [
    "# Preview the dataset\n",
    "df=df.rename(columns={'label':'Resolution'})\n",
    "df.head()"
   ]
  },
  {
   "cell_type": "code",
   "execution_count": 99,
   "id": "736e9f9f",
   "metadata": {},
   "outputs": [
    {
     "name": "stdout",
     "output_type": "stream",
     "text": [
      "<class 'pandas.core.frame.DataFrame'>\n",
      "RangeIndex: 2232 entries, 0 to 2231\n",
      "Data columns (total 200 columns):\n",
      " #    Column             Dtype  \n",
      "---   ------             -----  \n",
      " 0    RelativeTime       float64\n",
      " 1    PacketsSent        int64  \n",
      " 2    PacketsReceived    int64  \n",
      " 3    BytesSent          int64  \n",
      " 4    BytesReceived      int64  \n",
      " 5    IPSrc0             object \n",
      " 6    IPDst0             object \n",
      " 7    Protocol0          object \n",
      " 8    PacketsSent0       int64  \n",
      " 9    PacketsReceived0   int64  \n",
      " 10   BytesSent0         int64  \n",
      " 11   BytesReceived0     int64  \n",
      " 12   IPSrc1             object \n",
      " 13   IPDst1             object \n",
      " 14   Protocol1          object \n",
      " 15   PacketsSent1       int64  \n",
      " 16   PacketsReceived1   int64  \n",
      " 17   BytesSent1         int64  \n",
      " 18   BytesReceived1     int64  \n",
      " 19   IPSrc2             object \n",
      " 20   IPDst2             object \n",
      " 21   Protocol2          object \n",
      " 22   PacketsSent2       int64  \n",
      " 23   PacketsReceived2   int64  \n",
      " 24   BytesSent2         int64  \n",
      " 25   BytesReceived2     int64  \n",
      " 26   IPSrc3             object \n",
      " 27   IPDst3             object \n",
      " 28   Protocol3          object \n",
      " 29   PacketsSent3       int64  \n",
      " 30   PacketsReceived3   int64  \n",
      " 31   BytesSent3         int64  \n",
      " 32   BytesReceived3     int64  \n",
      " 33   IPSrc4             object \n",
      " 34   IPDst4             object \n",
      " 35   Protocol4          object \n",
      " 36   PacketsSent4       int64  \n",
      " 37   PacketsReceived4   int64  \n",
      " 38   BytesSent4         int64  \n",
      " 39   BytesReceived4     int64  \n",
      " 40   IPSrc5             object \n",
      " 41   IPDst5             object \n",
      " 42   Protocol5          object \n",
      " 43   PacketsSent5       int64  \n",
      " 44   PacketsReceived5   int64  \n",
      " 45   BytesSent5         int64  \n",
      " 46   BytesReceived5     int64  \n",
      " 47   IPSrc6             object \n",
      " 48   IPDst6             object \n",
      " 49   Protocol6          object \n",
      " 50   PacketsSent6       int64  \n",
      " 51   PacketsReceived6   int64  \n",
      " 52   BytesSent6         int64  \n",
      " 53   BytesReceived6     int64  \n",
      " 54   IPSrc7             object \n",
      " 55   IPDst7             object \n",
      " 56   Protocol7          object \n",
      " 57   PacketsSent7       int64  \n",
      " 58   PacketsReceived7   int64  \n",
      " 59   BytesSent7         int64  \n",
      " 60   BytesReceived7     int64  \n",
      " 61   IPSrc8             object \n",
      " 62   IPDst8             object \n",
      " 63   Protocol8          object \n",
      " 64   PacketsSent8       int64  \n",
      " 65   PacketsReceived8   int64  \n",
      " 66   BytesSent8         int64  \n",
      " 67   BytesReceived8     int64  \n",
      " 68   IPSrc9             object \n",
      " 69   IPDst9             object \n",
      " 70   Protocol9          object \n",
      " 71   PacketsSent9       int64  \n",
      " 72   PacketsReceived9   int64  \n",
      " 73   BytesSent9         int64  \n",
      " 74   BytesReceived9     int64  \n",
      " 75   IPSrc10            object \n",
      " 76   IPDst10            object \n",
      " 77   Protocol10         object \n",
      " 78   PacketsSent10      int64  \n",
      " 79   PacketsReceived10  int64  \n",
      " 80   BytesSent10        int64  \n",
      " 81   BytesReceived10    int64  \n",
      " 82   IPSrc11            object \n",
      " 83   IPDst11            object \n",
      " 84   Protocol11         object \n",
      " 85   PacketsSent11      int64  \n",
      " 86   PacketsReceived11  int64  \n",
      " 87   BytesSent11        int64  \n",
      " 88   BytesReceived11    int64  \n",
      " 89   IPSrc12            object \n",
      " 90   IPDst12            object \n",
      " 91   Protocol12         object \n",
      " 92   PacketsSent12      int64  \n",
      " 93   PacketsReceived12  int64  \n",
      " 94   BytesSent12        int64  \n",
      " 95   BytesReceived12    int64  \n",
      " 96   IPSrc13            object \n",
      " 97   IPDst13            object \n",
      " 98   Protocol13         object \n",
      " 99   PacketsSent13      int64  \n",
      " 100  PacketsReceived13  int64  \n",
      " 101  BytesSent13        int64  \n",
      " 102  BytesReceived13    int64  \n",
      " 103  IPSrc14            object \n",
      " 104  IPDst14            object \n",
      " 105  Protocol14         object \n",
      " 106  PacketsSent14      int64  \n",
      " 107  PacketsReceived14  int64  \n",
      " 108  BytesSent14        int64  \n",
      " 109  BytesReceived14    int64  \n",
      " 110  IPSrc15            object \n",
      " 111  IPDst15            object \n",
      " 112  Protocol15         object \n",
      " 113  PacketsSent15      int64  \n",
      " 114  PacketsReceived15  int64  \n",
      " 115  BytesSent15        int64  \n",
      " 116  BytesReceived15    int64  \n",
      " 117  IPSrc16            object \n",
      " 118  IPDst16            object \n",
      " 119  Protocol16         object \n",
      " 120  PacketsSent16      int64  \n",
      " 121  PacketsReceived16  int64  \n",
      " 122  BytesSent16        int64  \n",
      " 123  BytesReceived16    int64  \n",
      " 124  IPSrc17            object \n",
      " 125  IPDst17            object \n",
      " 126  Protocol17         object \n",
      " 127  PacketsSent17      int64  \n",
      " 128  PacketsReceived17  int64  \n",
      " 129  BytesSent17        int64  \n",
      " 130  BytesReceived17    int64  \n",
      " 131  IPSrc18            object \n",
      " 132  IPDst18            object \n",
      " 133  Protocol18         object \n",
      " 134  PacketsSent18      int64  \n",
      " 135  PacketsReceived18  int64  \n",
      " 136  BytesSent18        int64  \n",
      " 137  BytesReceived18    int64  \n",
      " 138  IPSrc19            object \n",
      " 139  IPDst19            object \n",
      " 140  Protocol19         object \n",
      " 141  PacketsSent19      int64  \n",
      " 142  PacketsReceived19  int64  \n",
      " 143  BytesSent19        int64  \n",
      " 144  BytesReceived19    int64  \n",
      " 145  IPSrc20            object \n",
      " 146  IPDst20            object \n",
      " 147  Protocol20         object \n",
      " 148  PacketsSent20      int64  \n",
      " 149  PacketsReceived20  int64  \n",
      " 150  BytesSent20        int64  \n",
      " 151  BytesReceived20    int64  \n",
      " 152  IPSrc21            object \n",
      " 153  IPDst21            object \n",
      " 154  Protocol21         object \n",
      " 155  PacketsSent21      int64  \n",
      " 156  PacketsReceived21  int64  \n",
      " 157  BytesSent21        int64  \n",
      " 158  BytesReceived21    int64  \n",
      " 159  IPSrc22            object \n",
      " 160  IPDst22            object \n",
      " 161  Protocol22         int64  \n",
      " 162  PacketsSent22      int64  \n",
      " 163  PacketsReceived22  int64  \n",
      " 164  BytesSent22        int64  \n",
      " 165  BytesReceived22    int64  \n",
      " 166  IPSrc23            object \n",
      " 167  IPDst23            object \n",
      " 168  Protocol23         int64  \n",
      " 169  PacketsSent23      int64  \n",
      " 170  PacketsReceived23  int64  \n",
      " 171  BytesSent23        int64  \n",
      " 172  BytesReceived23    int64  \n",
      " 173  IPSrc24            object \n",
      " 174  IPDst24            object \n",
      " 175  Protocol24         int64  \n",
      " 176  PacketsSent24      int64  \n",
      " 177  PacketsReceived24  int64  \n",
      " 178  BytesSent24        int64  \n",
      " 179  BytesReceived24    int64  \n",
      " 180  IPSrc25            object \n",
      " 181  IPDst25            object \n",
      " 182  Protocol25         int64  \n",
      " 183  PacketsSent25      int64  \n",
      " 184  PacketsReceived25  int64  \n",
      " 185  BytesSent25        int64  \n",
      " 186  BytesReceived25    int64  \n",
      " 187  Buffering          int64  \n",
      " 188  Paused             int64  \n",
      " 189  Playing            int64  \n",
      " 190  CollectData        int64  \n",
      " 191  EpochTime          int64  \n",
      " 192  StartTime          int64  \n",
      " 193  PlaybackProgress   float64\n",
      " 194  Length             float64\n",
      " 195  BufferHealth       float64\n",
      " 196  BufferProgress     float64\n",
      " 197  BufferValid        object \n",
      " 198  KBytesReceived     float64\n",
      " 199  Resolution         object \n",
      "dtypes: float64(6), int64(118), object(76)\n",
      "memory usage: 3.4+ MB\n"
     ]
    }
   ],
   "source": [
    "# Get some insight on data\n",
    "df.info(verbose=True)"
   ]
  },
  {
   "cell_type": "markdown",
   "id": "2253ef40",
   "metadata": {},
   "source": [
    "### Step 3: Select Features for Univariate Linear Regression\n",
    "\n",
    "**Goal**: Build a univariate linear regression model to predict the value of `Resolution` based on a single input feature: `KBytesReceived`.\n",
    "\n",
    "In supervised learning, we need to distinguish between:\n",
    "\n",
    "* **Independent variable $X$** – the input feature used to predict an outcome : `KBytesReceived`\n",
    "* **Dependent variable $y$** – the value we are trying to predict (also called the target): `Resolution`"
   ]
  },
  {
   "cell_type": "code",
   "execution_count": null,
   "id": "d89a0d02",
   "metadata": {},
   "outputs": [],
   "source": [
    "# Selecting one feature and target\n",
    "X = df[['KBytesReceived']]   # Independent variable (needs to be 2D for scikit-learn)\n",
    "y = df['Resolution']         # Dependent variable"
   ]
  },
  {
   "cell_type": "markdown",
   "id": "44db9c7b",
   "metadata": {},
   "source": [
    "### Step 4: Visualizing the Data with Scatter Plot\n",
    "\n",
    "Before training the model, it's helpful to visualize the relationship between the input feature and the target variable. A scatter plot lets us see if a linear relationship might exist between `KBytesReceived` and `Resolution`.\n",
    "\n",
    "**Optional:** Learn more about plotting with Matplotlib see [mathplotlib documentation](https://matplotlib.org/tutorials/introductory/lifecycle.html).\n",
    "\n",
    "* b) Create a scatter plot showing `KBytesReceived` vs `Resolution` and save it as \"scatter_plot.pdf\" under the working directory."
   ]
  },
  {
   "cell_type": "markdown",
   "id": "2fd7e0a6",
   "metadata": {},
   "source": [
    "#### Answer:"
   ]
  },
  {
   "cell_type": "code",
   "execution_count": 136,
   "id": "b44a1f35",
   "metadata": {},
   "outputs": [
    {
     "data": {
      "image/png": "[encoded data removed]",
      "text/plain": [
       "<Figure size 576x432 with 1 Axes>"
      ]
     },
     "metadata": {
      "needs_background": "light"
     },
     "output_type": "display_data"
    }
   ],
   "source": [
    "## TODO:\n",
    "# Créer le scatter plot\n",
    "plt.figure(figsize=(8, 6))\n",
    "plt.scatter(X, y, color='blue', alpha=0.6, edgecolor='k')\n",
    "plt.title(\"Scatter Plot: KBytesReceived vs Resolution\")\n",
    "plt.xlabel(\"KBytesReceived\")\n",
    "plt.ylabel(\"Resolution\")\n",
    "plt.grid(True)\n",
    "\n",
    "# Sauvegarder le graphique en PDF\n",
    "plt.savefig(\"scatter_plot1.pdf\")\n",
    "\n",
    "# Afficher le graphique à l'écran\n",
    "plt.show()"
   ]
  },
  {
   "cell_type": "markdown",
   "id": "7e2dae12",
   "metadata": {},
   "source": [
    "### Step 5: Manually Creating a Simple Regression Model\n",
    "\n",
    "Before using a machine learning library, let’s build a very simple regression model \"by hand\" to understand the concept.\n",
    "\n",
    "* c) Without using any machine learning libraries, define a simple linear model to predict `Resolution` from `KBytesReceived`. Choose a slope value of 1."
   ]
  },
  {
   "cell_type": "markdown",
   "id": "e49ec796",
   "metadata": {},
   "source": [
    "#### Answer:"
   ]
  },
  {
   "cell_type": "code",
   "execution_count": 141,
   "id": "3f74204f",
   "metadata": {},
   "outputs": [
    {
     "name": "stdout",
     "output_type": "stream",
     "text": [
      "   KBytesReceived Resolution réelle  Prediction\n",
      "0          12.894     NoQualityInfo    6.922027\n",
      "1          79.344             q480p   73.372027\n",
      "2          21.708     NoQualityInfo   15.736027\n",
      "3          52.973             q360p   47.001027\n",
      "4          13.466     NoQualityInfo    7.494027\n"
     ]
    }
   ],
   "source": [
    "## TODO:\n",
    "beta1 = 1\n",
    "mapping = {\n",
    "    'NoQualityInfo': 0,\n",
    "    'q360p': 300,\n",
    "    'q480p': 400,\n",
    "    'q720p': 500,\n",
    "    'q1080p': 600,\n",
    "    'q144p': 100,\n",
    "    'q240p': 200\n",
    "}\n",
    "df['Resolution_num'] = df['Resolution'].map(mapping)\n",
    "y_numbered = df['Resolution_num']\n",
    "beta0 = y_numbered.mean() - beta1 * X.mean()\n",
    "#beta0 = 0\n",
    "y_pred = (beta0 + beta1 * X)\n",
    "\n",
    "\n",
    "# Example \n",
    "comparison = pd.DataFrame({'KBytesReceived': X, 'Resolution réelle': y, 'Prediction': y_pred})\n",
    "print(comparison.head())"
   ]
  },
  {
   "cell_type": "markdown",
   "id": "4777f3e9",
   "metadata": {},
   "source": [
    "* d) Plot the resulting line over your earlier scatter plot to visually assess the fit. Save the new plot as `scatter_plot2.pdf`"
   ]
  },
  {
   "cell_type": "markdown",
   "id": "dd5b4a69",
   "metadata": {},
   "source": [
    "#### Answer:"
   ]
  },
  {
   "cell_type": "code",
   "execution_count": 142,
   "id": "2a92ea0d",
   "metadata": {},
   "outputs": [
    {
     "data": {
      "image/png": "[encoded data removed]",
      "text/plain": [
       "<Figure size 576x432 with 1 Axes>"
      ]
     },
     "metadata": {
      "needs_background": "light"
     },
     "output_type": "display_data"
    }
   ],
   "source": [
    "## TODO:\n",
    "plt.figure(figsize=(8, 6))\n",
    "\n",
    "# Nuage de points (les données réelles)\n",
    "plt.scatter(X, y_numbered, color='blue', alpha=0.6, edgecolor='k', label='Données réelles')\n",
    "\n",
    "# Droite de régression (les prédictions)\n",
    "plt.plot(X, y_pred, color='red', linewidth=2, label='Modèle linéaire (β₁=1)')\n",
    "\n",
    "# Titre et axes\n",
    "plt.title(\"Scatter Plot avec droite de régression\")\n",
    "plt.xlabel(\"KBytesReceived\")\n",
    "plt.ylabel(\"Resolution (numérique)\")\n",
    "plt.legend()\n",
    "plt.grid(True) \n",
    "# Sauvegarder le graphique en PDF\n",
    "plt.savefig(\"scatter_plot2.pdf\")\n",
    "\n",
    "# Afficher le graphique à l'écran\n",
    "plt.show()"
   ]
  },
  {
   "cell_type": "markdown",
   "id": "a983865b",
   "metadata": {},
   "source": [
    "### Step 6: Train a Linear Regression Model Using Scikit-learn\n",
    "\n",
    "Now that you've tried defining a model manually, let's use supervised learning to train a regression model that automatically finds the best slope (and intercept) to fit the data.\n",
    "\n",
    "We'll use **Ordinary Least Squares (OLS)** — the most common type of linear regression — from `scikit-learn`.\n",
    "\n",
    "* e) Create the regression model. \n",
    "    * **Hint:** Use `LinearRegression()` from `sklearn.linear_model`."
   ]
  },
  {
   "cell_type": "markdown",
   "id": "af6ead72",
   "metadata": {},
   "source": [
    "#### Answer:"
   ]
  },
  {
   "cell_type": "code",
   "execution_count": null,
   "id": "27410099",
   "metadata": {},
   "outputs": [],
   "source": [
    "## TODO:\n",
    "from sklearn.preprocessing import LabelEncoder\n",
    "\n",
    "le = LabelEncoder()\n",
    "y = le.fit_transform(df['Resolution'])  # y become int array\n",
    "X = df[['KBytesReceived']]             \n",
    "\n",
    "# Créer et entraîner le modèle de régression linéaire\n",
    "model = LinearRegression()\n",
    "\n"
   ]
  },
  {
   "cell_type": "markdown",
   "id": "fbf6c0c5",
   "metadata": {},
   "source": [
    "* f) Fit the model using your full dataset. \n",
    "    * **Hint:** Use `.fit(...)`."
   ]
  },
  {
   "cell_type": "markdown",
   "id": "e476d9f6",
   "metadata": {},
   "source": [
    "#### Answer:"
   ]
  },
  {
   "cell_type": "code",
   "execution_count": null,
   "id": "ddd37d06",
   "metadata": {},
   "outputs": [
    {
     "name": "stdout",
     "output_type": "stream",
     "text": [
      "Intercept (beta0): 0.34246471876061724\n",
      "Slope (beta1): 0.003044826014230226\n"
     ]
    }
   ],
   "source": [
    "## TODO:\n",
    "model.fit(X, y)\n"
   ]
  },
  {
   "cell_type": "markdown",
   "id": "88c7d7e3",
   "metadata": {},
   "source": [
    "* g) Predict the output for a range of input values. \n",
    "    * **Hint:** Use `.predict(...)` on your model."
   ]
  },
  {
   "cell_type": "markdown",
   "id": "2b3a0f03",
   "metadata": {},
   "source": [
    "#### Answer:"
   ]
  },
  {
   "cell_type": "code",
   "execution_count": 148,
   "id": "fb0c39be",
   "metadata": {},
   "outputs": [],
   "source": [
    "## TODO:\n",
    "\n",
    "y_prediction = model.predict(X)\n"
   ]
  },
  {
   "cell_type": "markdown",
   "id": "538dbe1b",
   "metadata": {},
   "source": [
    "* h) Plot the model’s predictions on top of your scatter plot. \n",
    "    * **Hint:** Use `ax.plot(...)` and add a legend with `ax.legend()`."
   ]
  },
  {
   "cell_type": "markdown",
   "id": "3a3310dc",
   "metadata": {},
   "source": [
    "#### Answer:"
   ]
  },
  {
   "cell_type": "code",
   "execution_count": 149,
   "id": "bb0fa605",
   "metadata": {},
   "outputs": [
    {
     "data": {
      "image/png": "[encoded data removed]",
      "text/plain": [
       "<Figure size 576x432 with 1 Axes>"
      ]
     },
     "metadata": {
      "needs_background": "light"
     },
     "output_type": "display_data"
    }
   ],
   "source": [
    "## TODO:\n",
    "# Créer la figure et axes\n",
    "fig, ax = plt.subplots(figsize=(8, 6))\n",
    "\n",
    "# Scatter plot des données réelles\n",
    "ax.scatter(X, y, color='blue', alpha=0.6, edgecolor='k', label='Data points')\n",
    "\n",
    "# Générer des valeurs pour X afin de tracer la droite\n",
    "\n",
    "\n",
    "# Tracer la droite de régression\n",
    "ax.plot(X, y_prediction, color='red', linewidth=2, label='Regression line')\n",
    "\n",
    "# Ajouter titres et labels\n",
    "ax.set_title(\"KBytesReceived vs Resolution with Regression Line\")\n",
    "ax.set_xlabel(\"KBytesReceived\")\n",
    "ax.set_ylabel(\"Resolution (encoded)\")\n",
    "ax.grid(True)\n",
    "ax.legend()\n",
    "\n",
    "# Afficher le graphique\n",
    "plt.show()"
   ]
  },
  {
   "cell_type": "markdown",
   "id": "c91eb956",
   "metadata": {},
   "source": [
    "* i) Print the learned model parameters: the intercept and slope. \n",
    "    * **Hint:** Use `.intercept_` and `.coef_ attributes` of the model."
   ]
  },
  {
   "cell_type": "markdown",
   "id": "86b487bc",
   "metadata": {},
   "source": [
    "#### Answer:"
   ]
  },
  {
   "cell_type": "code",
   "execution_count": 150,
   "id": "bc4d1133",
   "metadata": {},
   "outputs": [
    {
     "name": "stdout",
     "output_type": "stream",
     "text": [
      "Learned model parameters:\n",
      "Intercept (beta0): 0.34246471876061724\n",
      "Slope (beta1): 0.003044826014230226\n"
     ]
    }
   ],
   "source": [
    "## TODO:\n",
    "\n",
    "print(\"Learned model parameters:\")\n",
    "print(\"Intercept (beta0):\", model.intercept_)\n",
    "print(\"Slope (beta1):\", model.coef_[0])\n"
   ]
  },
  {
   "cell_type": "markdown",
   "id": "7cd19fb4",
   "metadata": {},
   "source": [
    "* j) Save the final figure as `final_figure.pdf`. \n",
    "    * **Hint:** Use `fig.savefig(...)`."
   ]
  },
  {
   "cell_type": "markdown",
   "id": "447efa26",
   "metadata": {},
   "source": [
    "#### Answer:"
   ]
  },
  {
   "cell_type": "code",
   "execution_count": 151,
   "id": "4ea0be37",
   "metadata": {},
   "outputs": [
    {
     "name": "stdout",
     "output_type": "stream",
     "text": [
      "Figure saved as 'final_figure.pdf'\n"
     ]
    }
   ],
   "source": [
    "## TODO:\n",
    "# Sauvegarder la figure finale\n",
    "fig.savefig(\"final_figure.pdf\")\n",
    "\n",
    "print(\"Figure saved as 'final_figure.pdf'\")\n"
   ]
  }
 ],
 "metadata": {
  "kernelspec": {
   "display_name": "Python 3",
   "language": "python",
   "name": "python3"
  },
  "language_info": {
   "codemirror_mode": {
    "name": "ipython",
    "version": 3
   },
   "file_extension": ".py",
   "mimetype": "text/x-python",
   "name": "python",
   "nbconvert_exporter": "python",
   "pygments_lexer": "ipython3",
   "version": "3.10.5"
  }
 },
 "nbformat": 4,
 "nbformat_minor": 5
}
