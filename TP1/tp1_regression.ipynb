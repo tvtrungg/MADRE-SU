{
 "cells": [
  {
   "cell_type": "markdown",
   "id": "298f8e35",
   "metadata": {},
   "source": [
    "# TP 1: Introduction to Regression for Network Data Analysis"
   ]
  },
  {
   "cell_type": "markdown",
   "id": "6294b883",
   "metadata": {},
   "source": [
    "## Supervised Learning: A Quick Recap\n",
    "\n",
    "Supervised learning is a type of machine learning where we **train a model using labeled data**.  \n",
    "\n",
    "That means each data point has:\n",
    "- An **input** (also called features)\n",
    "- A known **output** (label or value)\n",
    "\n",
    "The goal is to teach the model how to map inputs to outputs so it can make accurate predictions on unseen data.\n",
    "\n",
    "There are two main types of supervised learning:\n",
    "- **Classification**: It is used when the output is a **category or class**. In classification, the model picks a **label** from a fixed set of possible answers. (e.g. Is a network connection **normal** or **malicious**?)\n",
    "- **Regression**: It is used when the output is a **number (a continuous value)**. \n",
    "In regression, the model tries to learn a formula that outputs a number — not a category. (e.g. Estimating **download time** based on file size)\n"
   ]
  },
  {
   "cell_type": "markdown",
   "id": "c4338358",
   "metadata": {},
   "source": [
    "## 📝 Exercise 1: Simple Linear Regression"
   ]
  },
  {
   "cell_type": "markdown",
   "id": "1d4b540b",
   "metadata": {},
   "source": [
    "In this first exercise, we will explore **linear regression models**, starting with a simple case where we model an output variable $y$ as a linear function of a single input feature $x$."
   ]
  },
  {
   "cell_type": "markdown",
   "id": "538d6156",
   "metadata": {},
   "source": [
    "We will work with linear models of the form:  $y = \\beta_0+\\beta_1 x + \\epsilon$\n",
    "\n",
    "where:\n",
    "- $\\beta_0$: the **intercept** (value of $y$ when $x = 0$)  \n",
    "- $\\beta_1$: the **slope** (how much $y$ changes for a one-unit increase in $x$)  \n",
    "- $\\epsilon$: a **random error term** that accounts for noise or variability not explained by the linear relationship\n",
    "\n",
    "This setup is the foundation of a **linear regression model**.\n",
    "\n",
    "We assume that the random error term $\\epsilon$ follows a **normal distribution** $\\epsilon \\sim \\mathcal{N}(0,\\sigma^2)$ where:\n",
    "\n",
    "- The **mean** of the noise is zero.\n",
    "- The **variance** of the noise is $\\sigma^2$, so the standard deviation is $\\sigma$.\n",
    "- The noise is **independent** of $x$, and each observation is **i.i.d.** (independent and identically distributed).\n",
    "\n",
    "As a means of example, let us consider the linear model: $y=b_0+b_1x+\\epsilon$\n",
    "\n",
    "with:\n",
    "- $b_0 = 2$ (intercept)\n",
    "- $b_1 = 3$ (slope)\n",
    "- $\\sigma = 30$ (standard deviation of the noise)\n",
    "\n",
    "Note that at the end of the example, you can experiment with different values to your own choice to see how they affect the data and the fitted model.\n",
    "\n",
    "In this case:\n",
    "- $y$ is the value we **observe or measure** when the input feature takes the value $x$.\n",
    "- The **sample size** (i.e., number of data points) is denoted by $n$."
   ]
  },
  {
   "cell_type": "markdown",
   "id": "c9b576f7",
   "metadata": {},
   "source": [
    "### Preparation: Generating \"Synthetic Data\""
   ]
  },
  {
   "cell_type": "markdown",
   "id": "21f1ea30",
   "metadata": {},
   "source": [
    "#### Step 1: Import Required Libraries\n",
    "\n",
    "First, let's import the necessary libraries for data manipulation, visualization and regression modeling."
   ]
  },
  {
   "cell_type": "code",
   "execution_count": 1,
   "id": "980a83f2",
   "metadata": {},
   "outputs": [],
   "source": [
    "# Import necessary libraries\n",
    "import matplotlib.pyplot as plt\n",
    "import numpy as np\n",
    "import pandas as pd\n",
    "import math\n",
    "import random\n",
    "import statsmodels.api as sm\n",
    "from sklearn import datasets, linear_model"
   ]
  },
  {
   "cell_type": "markdown",
   "id": "88237499",
   "metadata": {},
   "source": [
    "We define the true underlying parameters of the linear model and the sample size to simulate synthetic data for regression analysis.\n"
   ]
  },
  {
   "cell_type": "code",
   "execution_count": null,
   "id": "04f336ca",
   "metadata": {},
   "outputs": [],
   "source": [
    "# Define parameters for synthetic data generation\n",
    "n = 20 # sample size\n",
    "b0 = 2 # real intercept (unobserved)\n",
    "b1 = np.array([3]) # real slope (unobserved)"
   ]
  },
  {
   "cell_type": "markdown",
   "id": "48a7842c",
   "metadata": {},
   "source": [
    "Now, to simulate data for our linear model $y = \\beta_0 + \\beta_1 x + \\epsilon$, we’ll follow these steps:"
   ]
  },
  {
   "cell_type": "markdown",
   "id": "0e0729ce",
   "metadata": {},
   "source": [
    "#### Step 2: Define the Random Error Term ($\\epsilon$)\n",
    "\n",
    "The error term $\\epsilon$ represents random noise in the data. It is sampled from a normal distribution with a specified mean and standard deviation.\n"
   ]
  },
  {
   "cell_type": "code",
   "execution_count": 8,
   "id": "4edeea05",
   "metadata": {},
   "outputs": [
    {
     "name": "stdout",
     "output_type": "stream",
     "text": [
      "Error vector (Er): [ 33.24214448  -9.66833454  68.66231565 -55.3634741  -46.02241369\n",
      "  32.69834474  36.28414203  -8.77906033 -28.89190806   6.07129635\n",
      "  48.70306245 -69.33409712  31.09989668  70.21805685  -6.69218164\n",
      " -19.60951679  24.44625946 -12.92376476  -0.37686216  39.06455214]\n"
     ]
    }
   ],
   "source": [
    "# Mean and standard deviation for the error term\n",
    "mue, sigmae = 0, 30\n",
    "\n",
    "# Set a random seed to make results reproducible, \n",
    "# if you want to fix a 'random' vector and not have different vectors per call:\n",
    "np.random.seed(199)\n",
    "\n",
    "# Generate the error vector Er of size n\n",
    "Er = np.random.normal(mue, sigmae, n)\n",
    "print(\"Error vector (Er):\", Er)"
   ]
  },
  {
   "cell_type": "markdown",
   "id": "d43058f1",
   "metadata": {},
   "source": [
    "#### Step 3: Generate the Feature Input ($x$)"
   ]
  },
  {
   "cell_type": "markdown",
   "id": "8d909d17",
   "metadata": {},
   "source": [
    "We assume that $x$, our input feature, lies within an interval $[xl, xh]$. We randomly sample $n$ values from this range using a uniform distribution."
   ]
  },
  {
   "cell_type": "code",
   "execution_count": 9,
   "id": "359798d2",
   "metadata": {},
   "outputs": [
    {
     "name": "stdout",
     "output_type": "stream",
     "text": [
      "Input feature vector (x): [ 78.57500336 117.84471417  47.98856377 101.29831222  55.66108205\n",
      "  65.38116798  74.337341    39.82041465 117.71944956  31.32134616\n",
      " 112.80089673   5.39719021  50.41908488  99.59823395  69.68557585\n",
      "  13.90856407  13.01791564 107.00400554  53.31687507  64.69449614]\n"
     ]
    }
   ],
   "source": [
    "# Define bounds for x\n",
    "xl, xh = 0, 120\n",
    "\n",
    "# Fixing seed again\n",
    "np.random.seed(199)\n",
    "\n",
    "# Generate n values of x uniformly between xl and xh\n",
    "x = np.random.uniform(xl,xh,n)\n",
    "print(\"Input feature vector (x):\", x)"
   ]
  },
  {
   "cell_type": "markdown",
   "id": "eb779802",
   "metadata": {},
   "source": [
    "#### Step 4: Compute the Output Variable ($y$)"
   ]
  },
  {
   "cell_type": "markdown",
   "id": "f24b3d60",
   "metadata": {},
   "source": [
    "Using the linear model and the generated values of n-sized vectors Er and x, we compute the corresponding values of y."
   ]
  },
  {
   "cell_type": "code",
   "execution_count": 12,
   "id": "1ca9ed2d",
   "metadata": {},
   "outputs": [
    {
     "name": "stdout",
     "output_type": "stream",
     "text": [
      "Output variable (y): [270.96715455 345.86580798 214.62800697 250.53146256 122.96083245\n",
      " 230.84184868 261.29616502 112.6821836  326.26644061 102.03533484\n",
      " 389.10575263 -51.1425265  184.35715132 371.01275871 204.36454591\n",
      "  24.11617543  65.50000638 310.08825187 161.57376303 235.14804055]\n"
     ]
    }
   ],
   "source": [
    "# Compute y using the model\n",
    "y = b0 + b1[0] * x + Er   # y = b0 + b1*x + Er\n",
    "print(\"Output variable (y):\", y)"
   ]
  },
  {
   "cell_type": "markdown",
   "id": "eae26401",
   "metadata": {},
   "source": [
    "#### Step 5: Visualize the Data"
   ]
  },
  {
   "cell_type": "markdown",
   "id": "305c34b1",
   "metadata": {},
   "source": [
    "Let us plot the line $y=2+3x$ (without noise) as well as the generated points $y$ that include the error."
   ]
  },
  {
   "cell_type": "code",
   "execution_count": 18,
   "id": "b93f054a",
   "metadata": {},
   "outputs": [
    {
     "data": {
      "image/png": "[encoded data removed]",
      "text/plain": [
       "<Figure size 800x500 with 1 Axes>"
      ]
     },
     "metadata": {},
     "output_type": "display_data"
    }
   ],
   "source": [
    "plt.figure(figsize=(8, 5))\n",
    "\n",
    "plt.plot(x, y, 'o', color='blue', label='Simulated data')\n",
    "plt.plot(x, b0+b1*x, color='orange',  label='Line: $y = 2 + 3x$')\n",
    "\n",
    "plt.xlabel(\"x\")\n",
    "plt.ylabel(\"y\")\n",
    "plt.legend()\n",
    "plt.title(\"Linear Model with Noise\")\n",
    "plt.grid(True)\n",
    "plt.show()"
   ]
  },
  {
   "cell_type": "markdown",
   "id": "c4d8aedf",
   "metadata": {},
   "source": [
    "#### Step 6: Wrap It Up Into a Function"
   ]
  },
  {
   "cell_type": "markdown",
   "id": "95bc2144",
   "metadata": {},
   "source": [
    "To make the data generation process reusable, we define the function `genSample()` that creates synthetic data for both **simple** and **multiple linear regression** tasks.\n",
    "\n",
    "- The function accepts a `seed` parameter:\n",
    "  - If `seed` is set to an **integer**, the random values are reproducible — the same `x`, `y`, and `Er` vectors are generated every time.\n",
    "  - If `seed` is left **empty**, the random values change with each call.\n",
    "\n",
    "\n",
    "- The `size` parameter controls the number of features in the input vector `x`:\n",
    "  - If `size = 1`, it generates data for **simple linear regression** (one feature).\n",
    "  - If `size > 1`, it produces inputs for **multiple linear regression** (multiple features).\n",
    "\n",
    "This structure allows you to generate controlled or randomized data for different types of regression experiments. Keep in mind that this process will be needed for later TP sessions."
   ]
  },
  {
   "cell_type": "code",
   "execution_count": 19,
   "id": "9f5dafaf",
   "metadata": {},
   "outputs": [],
   "source": [
    "def genSample(n, b0, b1, sigmae, xLow, xHigh, seedit=199, size=1):\n",
    "    if type(seedit) == int:\n",
    "        np.random.seed(seedit)\n",
    "        Er = np.random.normal(mue, sigmae, n)\n",
    "        x = []\n",
    "        for k in range(size):\n",
    "            np.random.seed(seedit + k)\n",
    "            x.append(np.random.uniform(xl, xh, n))\n",
    "    else:\n",
    "        np.random.seed()\n",
    "        Er = np.random.normal(mue, sigmae, n)\n",
    "        x = []\n",
    "        for k in range(size):\n",
    "            np.random.seed()\n",
    "            x.append(np.random.uniform(xl, xh, n))\n",
    "        \n",
    "    # Compute y\n",
    "    y = b0 + Er\n",
    "    for k in range(size):\n",
    "        y += b1[k] * x[k]\n",
    "\n",
    "    # Output\n",
    "    if size == 1:\n",
    "        return (x[0], y, Er)\n",
    "    else:\n",
    "        return (x, y, Er)"
   ]
  },
  {
   "cell_type": "code",
   "execution_count": 20,
   "id": "f00c5eaa",
   "metadata": {},
   "outputs": [
    {
     "name": "stdout",
     "output_type": "stream",
     "text": [
      "x =  [ 78.57500336 117.84471417  47.98856377 101.29831222  55.66108205\n",
      "  65.38116798  74.337341    39.82041465 117.71944956  31.32134616\n",
      " 112.80089673   5.39719021  50.41908488  99.59823395  69.68557585\n",
      "  13.90856407  13.01791564 107.00400554  53.31687507  64.69449614]\n",
      "y =  [270.96715455 345.86580798 214.62800697 250.53146256 122.96083245\n",
      " 230.84184868 261.29616502 112.6821836  326.26644061 102.03533484\n",
      " 389.10575263 -51.1425265  184.35715132 371.01275871 204.36454591\n",
      "  24.11617543  65.50000638 310.08825187 161.57376303 235.14804055]\n",
      "Er =  [ 33.24214448  -9.66833454  68.66231565 -55.3634741  -46.02241369\n",
      "  32.69834474  36.28414203  -8.77906033 -28.89190806   6.07129635\n",
      "  48.70306245 -69.33409712  31.09989668  70.21805685  -6.69218164\n",
      " -19.60951679  24.44625946 -12.92376476  -0.37686216  39.06455214]\n"
     ]
    }
   ],
   "source": [
    "# Generate synthetic data\n",
    "n, b0, b1 = 20, 2, np.array([3])\n",
    "(x, y, Er) = genSample(n, b0, b1, sigmae, xl, xh, seedit=199, size=1)\n",
    "print(\"x = \", x)\n",
    "print(\"y = \", y)\n",
    "print(\"Er = \", Er)"
   ]
  },
  {
   "cell_type": "code",
   "execution_count": 21,
   "id": "a15fb2bd",
   "metadata": {},
   "outputs": [
    {
     "data": {
      "text/html": [
       "<div>\n",
       "<style scoped>\n",
       "    .dataframe tbody tr th:only-of-type {\n",
       "        vertical-align: middle;\n",
       "    }\n",
       "\n",
       "    .dataframe tbody tr th {\n",
       "        vertical-align: top;\n",
       "    }\n",
       "\n",
       "    .dataframe thead th {\n",
       "        text-align: right;\n",
       "    }\n",
       "</style>\n",
       "<table border=\"1\" class=\"dataframe\">\n",
       "  <thead>\n",
       "    <tr style=\"text-align: right;\">\n",
       "      <th></th>\n",
       "      <th>x</th>\n",
       "      <th>y</th>\n",
       "      <th>error</th>\n",
       "    </tr>\n",
       "  </thead>\n",
       "  <tbody>\n",
       "    <tr>\n",
       "      <th>0</th>\n",
       "      <td>78.575003</td>\n",
       "      <td>270.967155</td>\n",
       "      <td>33.242144</td>\n",
       "    </tr>\n",
       "    <tr>\n",
       "      <th>1</th>\n",
       "      <td>117.844714</td>\n",
       "      <td>345.865808</td>\n",
       "      <td>-9.668335</td>\n",
       "    </tr>\n",
       "    <tr>\n",
       "      <th>2</th>\n",
       "      <td>47.988564</td>\n",
       "      <td>214.628007</td>\n",
       "      <td>68.662316</td>\n",
       "    </tr>\n",
       "    <tr>\n",
       "      <th>3</th>\n",
       "      <td>101.298312</td>\n",
       "      <td>250.531463</td>\n",
       "      <td>-55.363474</td>\n",
       "    </tr>\n",
       "    <tr>\n",
       "      <th>4</th>\n",
       "      <td>55.661082</td>\n",
       "      <td>122.960832</td>\n",
       "      <td>-46.022414</td>\n",
       "    </tr>\n",
       "    <tr>\n",
       "      <th>5</th>\n",
       "      <td>65.381168</td>\n",
       "      <td>230.841849</td>\n",
       "      <td>32.698345</td>\n",
       "    </tr>\n",
       "    <tr>\n",
       "      <th>6</th>\n",
       "      <td>74.337341</td>\n",
       "      <td>261.296165</td>\n",
       "      <td>36.284142</td>\n",
       "    </tr>\n",
       "    <tr>\n",
       "      <th>7</th>\n",
       "      <td>39.820415</td>\n",
       "      <td>112.682184</td>\n",
       "      <td>-8.779060</td>\n",
       "    </tr>\n",
       "    <tr>\n",
       "      <th>8</th>\n",
       "      <td>117.719450</td>\n",
       "      <td>326.266441</td>\n",
       "      <td>-28.891908</td>\n",
       "    </tr>\n",
       "    <tr>\n",
       "      <th>9</th>\n",
       "      <td>31.321346</td>\n",
       "      <td>102.035335</td>\n",
       "      <td>6.071296</td>\n",
       "    </tr>\n",
       "    <tr>\n",
       "      <th>10</th>\n",
       "      <td>112.800897</td>\n",
       "      <td>389.105753</td>\n",
       "      <td>48.703062</td>\n",
       "    </tr>\n",
       "    <tr>\n",
       "      <th>11</th>\n",
       "      <td>5.397190</td>\n",
       "      <td>-51.142527</td>\n",
       "      <td>-69.334097</td>\n",
       "    </tr>\n",
       "    <tr>\n",
       "      <th>12</th>\n",
       "      <td>50.419085</td>\n",
       "      <td>184.357151</td>\n",
       "      <td>31.099897</td>\n",
       "    </tr>\n",
       "    <tr>\n",
       "      <th>13</th>\n",
       "      <td>99.598234</td>\n",
       "      <td>371.012759</td>\n",
       "      <td>70.218057</td>\n",
       "    </tr>\n",
       "    <tr>\n",
       "      <th>14</th>\n",
       "      <td>69.685576</td>\n",
       "      <td>204.364546</td>\n",
       "      <td>-6.692182</td>\n",
       "    </tr>\n",
       "    <tr>\n",
       "      <th>15</th>\n",
       "      <td>13.908564</td>\n",
       "      <td>24.116175</td>\n",
       "      <td>-19.609517</td>\n",
       "    </tr>\n",
       "    <tr>\n",
       "      <th>16</th>\n",
       "      <td>13.017916</td>\n",
       "      <td>65.500006</td>\n",
       "      <td>24.446259</td>\n",
       "    </tr>\n",
       "    <tr>\n",
       "      <th>17</th>\n",
       "      <td>107.004006</td>\n",
       "      <td>310.088252</td>\n",
       "      <td>-12.923765</td>\n",
       "    </tr>\n",
       "    <tr>\n",
       "      <th>18</th>\n",
       "      <td>53.316875</td>\n",
       "      <td>161.573763</td>\n",
       "      <td>-0.376862</td>\n",
       "    </tr>\n",
       "    <tr>\n",
       "      <th>19</th>\n",
       "      <td>64.694496</td>\n",
       "      <td>235.148041</td>\n",
       "      <td>39.064552</td>\n",
       "    </tr>\n",
       "  </tbody>\n",
       "</table>\n",
       "</div>"
      ],
      "text/plain": [
       "             x           y      error\n",
       "0    78.575003  270.967155  33.242144\n",
       "1   117.844714  345.865808  -9.668335\n",
       "2    47.988564  214.628007  68.662316\n",
       "3   101.298312  250.531463 -55.363474\n",
       "4    55.661082  122.960832 -46.022414\n",
       "5    65.381168  230.841849  32.698345\n",
       "6    74.337341  261.296165  36.284142\n",
       "7    39.820415  112.682184  -8.779060\n",
       "8   117.719450  326.266441 -28.891908\n",
       "9    31.321346  102.035335   6.071296\n",
       "10  112.800897  389.105753  48.703062\n",
       "11    5.397190  -51.142527 -69.334097\n",
       "12   50.419085  184.357151  31.099897\n",
       "13   99.598234  371.012759  70.218057\n",
       "14   69.685576  204.364546  -6.692182\n",
       "15   13.908564   24.116175 -19.609517\n",
       "16   13.017916   65.500006  24.446259\n",
       "17  107.004006  310.088252 -12.923765\n",
       "18   53.316875  161.573763  -0.376862\n",
       "19   64.694496  235.148041  39.064552"
      ]
     },
     "execution_count": 21,
     "metadata": {},
     "output_type": "execute_result"
    }
   ],
   "source": [
    "# Create a pandas DataFrame and put the x, Er, y vectors\n",
    "df_slr = pd.DataFrame({'x': x, 'y': y, 'error': Er})\n",
    "df_slr"
   ]
  },
  {
   "cell_type": "markdown",
   "id": "e55c2ab3",
   "metadata": {},
   "source": [
    "### Part A: Analyzing synthetic data\n",
    "\n",
    "In this part, you will analyze the synthetic dataset you generated using basic statistical tools and linear regression formulas.\n",
    "\n",
    "You may use either `numPy` or `pandas` for your calculations.\n",
    "\n",
    "With the above synthetic data: \n",
    "\n",
    "* a) Compute the sample means $\\bar{x}$, $\\bar{y}$ and the sample variance $s_{xx}$ and covariance $s_{xy}$ .\n",
    "\n",
    "* b) Using the formulas presented in the lecture, calculate the estimated coefficients of the least-squares line: $\\hat{y}=\\hat{\\beta}_0+\\hat{\\beta}_1x$. Compare your estimated coefficients with the **true values** used to generate the data: $(\\beta_0,\\beta_1)=(2,3)$ What do you observe? How close are they? What could explain any differences?\n",
    "\n",
    "* c) Plot the regression line, least-squares line and the data samples on the same graph. Use appropriate labels and a legend to clearly distinguish each line and the data points.\n",
    "\n",
    "**Optional:** You can later compare your results with those from `scikit-learn` implementation of simple linear regression."
   ]
  },
  {
   "cell_type": "markdown",
   "id": "3d41484c",
   "metadata": {},
   "source": [
    "#### Answer:"
   ]
  },
  {
   "cell_type": "code",
   "execution_count": 58,
   "id": "54ba7c91",
   "metadata": {},
   "outputs": [
    {
     "name": "stdout",
     "output_type": "stream",
     "text": [
      "Mean of x: 65.98951164926079\n",
      "Mean of y: 206.60995782891467\n",
      "Var (s_xx): 1250.9885169632728\n",
      "Cov (s_xy): 3936.735127987621\n",
      "=======\n",
      "b)\n",
      "Estimated slope (b1_hat): 3.1468994915667943, True slope (b1): 3\n",
      "Estimated intercept (b0_hat): -1.052402828885164, True intercept (b0): 2\n"
     ]
    },
    {
     "data": {
      "image/png": "[encoded data removed]",
      "text/plain": [
       "<Figure size 800x500 with 1 Axes>"
      ]
     },
     "metadata": {},
     "output_type": "display_data"
    }
   ],
   "source": [
    "## TODO:\n",
    "# a) Compute the sample means $\\bar{x}$, $\\bar{y}$ and the sample variance $s_{xx}$ and covariance $s_{xy}$ .\n",
    "x_bar = np.mean(df_slr['x'])\n",
    "y_bar = np.mean(df_slr['y'])\n",
    "s_xx = 1/(n-1) * np.sum((df_slr['x'] - x_bar) ** 2)  # Var\n",
    "s_xy = 1/(n-1) * np.sum((df_slr['x'] - x_bar) * (df_slr['y'] - y_bar)) # Cov\n",
    "\n",
    "# Alternatively, I can use numpy's cov function:\n",
    "# s_xx = np.var(df_slr['x'], ddof=1) \n",
    "# s_xy = np.cov(df_slr['x'], df_slr['y'], ddof=1)[0, 1]  \n",
    "\n",
    "print(f\"Mean of x: {x_bar}\")\n",
    "print(f\"Mean of y: {y_bar}\")\n",
    "print(f\"Var (s_xx): {s_xx}\")\n",
    "print(f\"Cov (s_xy): {s_xy}\")\n",
    "\n",
    "## b) Using the formulas presented in the lecture, calculate the estimated coefficients of the least-squares line: $\\hat{y}=\\hat{\\beta}_0+\\hat{\\beta}_1x$. Compare your estimated coefficients with the **true values** used to generate the data: $(\\beta_0,\\beta_1)=(2,3)$ What do you observe? How close are they? What could explain any differences?\n",
    "\n",
    "b1_hat = s_xy / s_xx          # b1_hat = Cov/Var\n",
    "b0_hat = y_bar - b1_hat * x_bar \n",
    "\n",
    "print(f\"=======\\nb)\\nEstimated slope (b1_hat): {b1_hat}, True slope (b1): {b1[0]}\")\n",
    "print(f\"Estimated intercept (b0_hat): {b0_hat}, True intercept (b0): {b0}\")\n",
    "\n",
    "\n",
    "# --> The estimated coefficients are close to the true values, but not exact (3.14689 vs 3 and -1.0524 vs 2). This discrepancy can be attributed to the random error term (Er) introduced during data generation, which adds variability to the observations.\n",
    "\n",
    "\n",
    "## * c) Plot the regression line, least-squares line and the data samples on the same graph. Use appropriate labels and a legend to clearly distinguish each line and the data points.\n",
    "plt.figure(figsize=(8, 5))\n",
    "\n",
    "plt.plot(df_slr['x'], df_slr['y'], 'o', color='blue', label='Simulated data')\n",
    "plt.plot(df_slr['x'], b0+b1*df_slr['x'], color='orange',  label='Line: $y = 2 + 3x$')\n",
    "\n",
    "plt.plot(df_slr['x'], b0_hat + b1_hat*df_slr['x'], color='green', label='Least-squares line')\n",
    "plt.xlabel(\"x\")\n",
    "plt.ylabel(\"y\")\n",
    "plt.legend()\n",
    "plt.title(\"Linear Model with Least-Squares Fit\")\n",
    "plt.grid(True)\n",
    "plt.show()\n"
   ]
  },
  {
   "cell_type": "markdown",
   "id": "df463ae9",
   "metadata": {},
   "source": [
    "### Part B: Visualizing data distribution\n",
    "\n",
    "In this section, you'll explore the distribution of the input feature $x$ using visual tools. You can use either `matplotlib` or `pandas` for this part.\n",
    "\n",
    "* d) Create a boxplot of the variable $x$ to examine its distribution. This will help you identify the spread, central tendency and possible outliers.\n",
    "\n",
    "* e) Based on the boxplot, how would you describe the distribution of $x$? Symmetric, left-skewed, right-skewed or uniform?\n",
    "\n",
    "* f) What does the interquartile range (IQR) tell you about the spread of $x$ values?\n",
    "\n",
    "* g) Are there any outliers in the feature $x$ based on the boxplot? What would cause them to appear or not appear in a asynthetic dataset like this?"
   ]
  },
  {
   "cell_type": "markdown",
   "id": "94fd0a02",
   "metadata": {},
   "source": [
    "#### Answer:"
   ]
  },
  {
   "cell_type": "code",
   "execution_count": null,
   "id": "0e303ca4",
   "metadata": {},
   "outputs": [
    {
     "data": {
      "image/png": "[encoded data removed]",
      "text/plain": [
       "<Figure size 600x800 with 1 Axes>"
      ]
     },
     "metadata": {},
     "output_type": "display_data"
    }
   ],
   "source": [
    "## TODO:\n",
    "\n",
    "# d) Create a boxplot of the variable $x$ to examine its distribution. This will help you identify the spread, central tendency and possible outliers.\n",
    "\n",
    "plt.figure(figsize=(6, 8))\n",
    "plt.boxplot(df_slr['x'], vert=True, patch_artist=True)\n",
    "plt.title(\"Boxplot of Feature x\")\n",
    "plt.ylabel(\"x values\")\n",
    "plt.grid(True)\n",
    "plt.show()"
   ]
  },
  {
   "cell_type": "markdown",
   "id": "198dc512",
   "metadata": {},
   "source": [
    "##### e) Based on the boxplot, how would you describe the distribution of $x$? Symmetric, left-skewed, right-skewed or uniform?\n",
    "- The boxplot of x appears to be relatively symmetric\n",
    "- The median is near the center of the box, and the whiskers are approximately equal in length on both sides.\n",
    "- There are no outliers, and the spread of the data seems consistent with a uniform distribution, as expected from the uniform random generation of x values between 0 and 120.\n",
    "\n",
    "##### f) What does the interquartile range (IQR) tell you about the spread of $x$ values?\n",
    "- The IQR is the range between the first quartile (Q1) and the third quartile (Q3).\n",
    "- In this case, the IQR is approximately 55 (45 to 100), indicating that the middle 50% of the x values are spread over a range of 55 units.\n",
    "\n",
    "##### g) Are there any outliers in the feature $x$ based on the boxplot? What would cause them to appear or not appear in a synthetic dataset like this?\n",
    "- There are no outliers in the boxplot of x.\n",
    "- In a synthetic dataset generated from a uniform distribution, outliers are less likely to appear because the values are evenly distributed across the specified range (0 to 120 in this case)."
   ]
  },
  {
   "cell_type": "markdown",
   "id": "2001ba9e",
   "metadata": {},
   "source": [
    "### Part C: Evaluating Model Accuracy\n",
    "\n",
    "In this section, you will assess how well your regression model fits the synthetic data using standard evaluation metrics. These metrics help quantify the accuracy and reliability of your predictions.\n",
    "\n",
    "* h) Compute the Residual Standard Error (RSE) and the Mean Squared Error (MSE). What do they tell about the accuracy of the model?\n",
    "\n",
    "* **Reminder:** The relationship between MSE and RSE is given by: $MSE := \\frac{1}{n}RSS = \\frac{n-2}{n}RSE^2$.\n",
    "\n",
    "* i) Compute the coefficient of determination ($R^2$-statistic). What does it tell about the accuracy of the model?\n",
    "\n",
    "* j) Calculate the $95\\%$ confidence intervals for the estimated coefficients. Do the real coefficients $\\beta_0=2$ and $\\beta_1=3$ fall within these intervals?\n",
    "\n",
    "**Optional:** You may compare your manually calculated metrics and intervals with those obtained using `scikit-learn`'s `LinearRegression` implementation."
   ]
  },
  {
   "cell_type": "markdown",
   "id": "ba53df52",
   "metadata": {},
   "source": [
    "#### Answer:"
   ]
  },
  {
   "cell_type": "code",
   "execution_count": null,
   "id": "ea967bca",
   "metadata": {},
   "outputs": [
    {
     "name": "stdout",
     "output_type": "stream",
     "text": [
      "RSE:  40.02266221186426\n",
      "MSE:  1441.6321414724885\n",
      "R^2:  0.8908740377860238\n",
      "95% CI for b1_hat: (np.float64(2.6015028635213495), np.float64(3.692296119612239)), True b1: 3\n",
      "95% CI for b0_hat: (np.float64(-41.65810568638809), np.float64(39.55330002861776)), True b0: 2\n",
      "=======\n",
      "\n",
      "\n",
      "95% CI for b_0:  (np.float64(-41.65810568638809), np.float64(39.55330002861776))\n",
      "95% CI for b_1:  (np.float64(2.6015028635213495), np.float64(3.692296119612239))\n",
      "Does b_0=2 fall within the CI?  True\n",
      "Does b_1=3 fall within the CI?  True\n"
     ]
    }
   ],
   "source": [
    "## TODO:\n",
    "# In this section, you will assess how well your regression model fits the synthetic data using standard evaluation metrics. These metrics help quantify the accuracy and reliability of your predictions.\n",
    "\n",
    "# * h) Compute the Residual Standard Error (RSE) and the Mean Squared Error (MSE). What do they tell about the accuracy of the model?\n",
    "y_hat = b1_hat * df_slr['x'] + b0_hat\n",
    "RSS = np.sum((df_slr['y'] - y_hat) ** 2)  \n",
    "RSE = math.sqrt(RSS / (n - 2))\n",
    "MSE = RSS / n\n",
    "\n",
    "print(\"RSE: \", RSE)\n",
    "print(\"MSE: \", MSE)\n",
    "\n",
    "# --> The RSE and MSE values indicate the average deviation of the observed values from the predicted values. Lower values suggest a better fit, while higher values indicate more significant discrepancies between the model's predictions and the actual data points.\n",
    "\n",
    "# i) Compute the coefficient of determination ($R^2$-statistic). What does it tell about the accuracy of the model?\n",
    "s_yy = 1/(n-1) * np.sum((df_slr['y'] - y_bar) ** 2)\n",
    "R_squared = s_xy**2 / (s_xx * s_yy)\n",
    "print(\"R^2: \", R_squared)\n",
    "\n",
    "# --> The R^2 value of approximately 0.891 indicates that about 89.1% of the variance in the dependent variable (y) can be explained by the independent variable (x) using the linear regression model. This suggests a strong relationship between x and y, indicating that the model fits the data well.\n",
    "\n",
    "# j) Calculate the $95\\%$ confidence intervals for the estimated coefficients. Do the real coefficients $\\beta_0=2$ and $\\beta_1=3$ fall within these intervals?\n",
    "import scipy.stats as stats\n",
    "alpha = 0.05\n",
    "t_critical = stats.t.ppf(1 - alpha/2, df=n-2)\n",
    "se_b1_test = RSE / math.sqrt(np.sum((df_slr['x'] - x_bar) ** 2))\n",
    "se_b0_test = RSE * math.sqrt(1/n + (x_bar**2) / np.sum((df_slr['x'] - x_bar) ** 2))\n",
    "ci_b1 = (b1_hat - t_critical * se_b1_test, b1_hat + t_critical * se_b1_test)\n",
    "ci_b0 = (b0_hat - t_critical * se_b0_test, b0_hat + t_critical * se_b0_test)\n",
    "print(f\"95% CI for b1_hat: {ci_b1}, True b1: {b1[0]}\")\n",
    "print(f\"95% CI for b0_hat: {ci_b0}, True b0: {b0}\")\n",
    "\n",
    "\n",
    "print(\"=======\\n\\n\")\n",
    "# Compute standard errors\n",
    "se_b1 = RSE / math.sqrt((n - 1) * s_xx)\n",
    "se_b0 = RSE * math.sqrt(1 / n + (x_bar ** 2) / ((n - 1) * s_xx))\n",
    "\n",
    "# Critical t-value for 95% confidence (two-tailed)\n",
    "t_crit = stats.t.ppf(0.975, df=n-2)\n",
    "\n",
    "# Confidence intervals\n",
    "ci_b0_lower = b0_hat - t_crit * se_b0\n",
    "ci_b0_upper = b0_hat + t_crit * se_b0\n",
    "ci_b1_lower = b1_hat - t_crit * se_b1\n",
    "ci_b1_upper = b1_hat + t_crit * se_b1\n",
    "\n",
    "print(\"95% CI for b_0: \", (ci_b0_lower, ci_b0_upper))\n",
    "print(\"95% CI for b_1: \", (ci_b1_lower, ci_b1_upper))\n",
    "\n",
    "# Check if real coefficients fall within the intervals\n",
    "beta0_real = 2\n",
    "beta1_real = 3\n",
    "falls_b0 = ci_b0_lower <= beta0_real <= ci_b0_upper\n",
    "falls_b1 = ci_b1_lower <= beta1_real <= ci_b1_upper\n",
    "\n",
    "print(\"Does b_0=2 fall within the CI? \", falls_b0)\n",
    "print(\"Does b_1=3 fall within the CI? \", falls_b1)"
   ]
  },
  {
   "cell_type": "markdown",
   "id": "4ded0904",
   "metadata": {},
   "source": [
    "## 📝 Exercise 2: Multiple Linear Regression"
   ]
  },
  {
   "cell_type": "markdown",
   "id": "c73a411b",
   "metadata": {},
   "source": [
    "In this exercise, we will extend simple linear regression to a **multi-variable setting**. Specifically, we work on problems of multi-linear regression with multiple input features and examine how each input feature contributes to predicting the output variable."
   ]
  },
  {
   "cell_type": "markdown",
   "id": "a1026e8e",
   "metadata": {},
   "source": [
    "We work with a multiple linear regression model using 4 input features. \n",
    "\n",
    "The regression model is: $y = \\beta_0 + \\beta_1x_1 + \\beta_2x_2 + \\beta_3x_3 + \\beta_4x_4 + \\epsilon$\n",
    "\n",
    "where:\n",
    "- $x_1$, $x_2$, $x_3$ are features that influence $y$\n",
    "- $x_4$ is constructed as noise: $x_4=np.ones(n)+Er$, meaning it should not have any true effect on the target $y$."
   ]
  },
  {
   "cell_type": "markdown",
   "id": "b1dcca25",
   "metadata": {},
   "source": [
    "### Step 1: Generate Synthetic Data\n",
    "\n",
    "We use the `genSample()` function again to simulate a dataset with multiple features. You can adjust the number of features via the `size` parameter.\n",
    "\n",
    "- The model is still based on: $Y = \\beta_0 + \\beta_1 x_1 + \\beta_2 x_2 + \\dots + \\beta_d x_d + \\varepsilon$\n",
    "- We'll use a fixed seed for reproducibility.\n",
    "- The noise term $\\varepsilon \\sim \\mathcal{N}(0, \\sigma^2)$ adds randomness, simulating real-world measurement error."
   ]
  },
  {
   "cell_type": "code",
   "execution_count": null,
   "id": "7e347fb6",
   "metadata": {},
   "outputs": [],
   "source": [
    "# Define parameters for synthetic data generation\n",
    "n = 100 # sample size\n",
    "b0 = 2 # real intercept (unobserved)\n",
    "b1 = np.array([3, 7, 20])   # real slope (unobserved) for 3 input features\n",
    "xl, xh = 0, 120 # input range for features\n",
    "sigmae = 30 # standard deviation for error term"
   ]
  },
  {
   "cell_type": "code",
   "execution_count": null,
   "id": "e14599a5",
   "metadata": {},
   "outputs": [],
   "source": [
    "# Generate synthetic data using the true model and added Gaussian noise\n",
    "(xM,yM,ErM) = genSample(n, b0, b1, sigmae, xl, xh, seedit=199, size=len(b1))\n",
    "x_extra = 1 + ErM   # This variable has no real meaning, just noise centered around 1\n",
    "xM.append(x_extra)  # Now xM has 4 features: [x1, x2, x3, x_extra]\n",
    "yM += xM[-1]        # Modify yM so x_extra appears to influence y"
   ]
  },
  {
   "cell_type": "markdown",
   "id": "d83527b6",
   "metadata": {},
   "source": [
    "### Step 2: Visualize Data\n",
    "\n",
    "We collect the generated features, target variable, and noise into a structured format using a `pandas.DataFrame`."
   ]
  },
  {
   "cell_type": "code",
   "execution_count": null,
   "id": "944bc446",
   "metadata": {},
   "outputs": [],
   "source": [
    "# Create a structured DataFrame for visual inspection\n",
    "dataM = {'x1': xM[0], 'x2' : xM[1],'x3' : xM[2] ,'x4': xM[3], 'error': ErM, 'y_mult': yM}\n",
    "df_slrM = pd.DataFrame(data=dataM)\n",
    "df_slrM"
   ]
  },
  {
   "cell_type": "markdown",
   "id": "3236e786",
   "metadata": {},
   "source": [
    "### Step 3: Analysis & Interpretation of Regression Results\n",
    "\n",
    "Now that you’ve generated and organized the synthetic dataset, analyze the statistical properties of the regression models and understand the role of each input feature.\n",
    "\n",
    "* a) For the above multi-regression model, estimate the unknown regression coefficients $(\\beta_0,...,\\beta_4)$ using all four features. Also compute the p-values, F-statistic and $R^2$ score for each feature. What do the p-values and F-statistic tell you about which features are truly significant?\n",
    "\n",
    "* b) Fit a multi-regression model only using $(x_2,x_4)$. Estimate the coefficients and determine the p-values, F-statistic and $R^2$ score again. How do the p-values and F-statistic compare with results from part (a)? What does this imply? Are all the features relevant to the model?\n",
    "\n",
    "* c) Fit four seperate single-feature regression models (one for each variable $x_i$). Compare the estimated slopes $\\beta_1$, $\\ldots$, $\\beta_4$ from these single-variable models to those from the multi-variable model in part (a). What do you notice?\n",
    "\n",
    "* d) Compare the answers from (a), (b), (c). What do you observe? Explain.\n",
    "\n",
    "**Hint 1:** Use `LinearRegression()` from `scikit-learn` and create a linear regression object.\n",
    "\n",
    "**Hint 2:** For the p-values and the F-statistic, you can use the scikit-learn command `sklearn.feature_selection.f_regression`\n",
    "\n",
    "scikit documnetation: https://scikit-learn.org/stable/modules/generated/sklearn.feature_selection.f_regression.html"
   ]
  },
  {
   "cell_type": "markdown",
   "id": "99e96660",
   "metadata": {},
   "source": [
    "#### Answer:\n",
    "\n",
    "Here is the answer for part (a) using `statsmodels`, you need to do it with `scikit-learn`."
   ]
  },
  {
   "cell_type": "code",
   "execution_count": null,
   "id": "3b44c3b6",
   "metadata": {},
   "outputs": [],
   "source": [
    "# using pandas\n",
    "Xm = df_slrM[[\"x1\", \"x2\", \"x3\", \"x4\"]]\n",
    "Ym = df_slrM[\"y_mult\"]\n",
    "Xm = sm.add_constant(Xm) ## let's add an intercept (beta_0) to our model\n",
    "\n",
    "# Note the difference in argument order\n",
    "model = sm.OLS(Ym, Xm).fit()\n",
    "y_pred_OLS = model.predict(Xm) # make the predictions using SAME train data\n",
    "\n",
    "# Print out the statistics\n",
    "model.summary()"
   ]
  },
  {
   "cell_type": "code",
   "execution_count": null,
   "id": "d4c3b1ee",
   "metadata": {},
   "outputs": [],
   "source": [
    "## TODO:\n",
    "\n",
    "# Import necessary libraries\n",
    "from sklearn.linear_model import LinearRegression\n",
    "from sklearn.feature_selection import f_regression"
   ]
  },
  {
   "cell_type": "markdown",
   "id": "1bdb775a",
   "metadata": {},
   "source": [
    "## 📝 Exercise 3: Univariate Linear Regression with Real Network Data"
   ]
  },
  {
   "cell_type": "markdown",
   "id": "1123a933",
   "metadata": {},
   "source": [
    "In this final exercise, we will apply a simple linear regression to a real-world dataset related to network traffic. \n",
    "\n",
    "The goal is to:\n",
    "- Load and explore a dataset\n",
    "- Select one numerical feature to predict a target variable\n",
    "- Train a linear regression model using **scikit-learn**\n",
    "- Visualize and interpret the results\n",
    "\n",
    "We will use tools provided in the course library and analyze actual features from network measurements."
   ]
  },
  {
   "cell_type": "markdown",
   "id": "384737be",
   "metadata": {},
   "source": [
    "### Dataset Overview: Requet Dataset\n",
    "\n",
    "We use a dataset of QoE prediction from [Requet dataset](https://github.com/Wimnet/RequetDataSet) — a public dataset designed for **real-time QoE detection** on encrypted YouTube traffic.\n",
    "- The goal is to predict QoE indicators, such as video resolution, based on traffic characteristics.\n",
    "- The dataset has already been cleaned and simplified for this lab exercise."
   ]
  },
  {
   "cell_type": "markdown",
   "id": "d4600901",
   "metadata": {},
   "source": [
    "### Step 1: Import Libraries\n",
    "\n",
    "Start by importing the libraries needed for data handling, modeling and visualization."
   ]
  },
  {
   "cell_type": "code",
   "execution_count": null,
   "id": "44716aea",
   "metadata": {},
   "outputs": [],
   "source": [
    "# Import necessary libraries\n",
    "import pandas as pd # For dataframes (tables)\n",
    "import numpy as np\n",
    "import matplotlib.pyplot as plt # For plots\n",
    "import sklearn.linear_model\n",
    "from sklearn.linear_model import LinearRegression\n",
    "from sklearn.metrics import mean_squared_error, r2_score"
   ]
  },
  {
   "cell_type": "markdown",
   "id": "85318f72",
   "metadata": {},
   "source": [
    "### Step 2: Load the Dataset\n",
    "\n",
    "Make sure your dataset is accessible. This example assumes a file named `network_data.csv` is in the working directory. \n",
    "\n",
    "* a) Replace the filename with your actual path to the dataset."
   ]
  },
  {
   "cell_type": "markdown",
   "id": "ddddc88b",
   "metadata": {},
   "source": [
    "##### Answer:"
   ]
  },
  {
   "cell_type": "code",
   "execution_count": null,
   "id": "322f8f9d",
   "metadata": {},
   "outputs": [],
   "source": [
    "# TODO:\n",
    "filename = \"...\"\n",
    "df = pd.read_csv(filename)"
   ]
  },
  {
   "cell_type": "code",
   "execution_count": null,
   "id": "e78d58b1",
   "metadata": {},
   "outputs": [],
   "source": [
    "# Preview the dataset\n",
    "df=df.rename(columns={'label':'Resolution'})\n",
    "df.head()"
   ]
  },
  {
   "cell_type": "code",
   "execution_count": null,
   "id": "736e9f9f",
   "metadata": {},
   "outputs": [],
   "source": [
    "# Get some insight on data\n",
    "df.info(verbose=True)"
   ]
  },
  {
   "cell_type": "markdown",
   "id": "2253ef40",
   "metadata": {},
   "source": [
    "### Step 3: Select Features for Univariate Linear Regression\n",
    "\n",
    "**Goal**: Build a univariate linear regression model to predict the value of `Resolution` based on a single input feature: `KBytesReceived`.\n",
    "\n",
    "In supervised learning, we need to distinguish between:\n",
    "\n",
    "* **Independent variable $X$** – the input feature used to predict an outcome : `KBytesReceived`\n",
    "* **Dependent variable $y$** – the value we are trying to predict (also called the target): `Resolution`"
   ]
  },
  {
   "cell_type": "code",
   "execution_count": null,
   "id": "d89a0d02",
   "metadata": {},
   "outputs": [],
   "source": [
    "# Selecting one feature and target\n",
    "X = df[['KBytesReceived']]   # Independent variable (needs to be 2D for scikit-learn)\n",
    "y = df['Resolution']         # Dependent variable"
   ]
  },
  {
   "cell_type": "markdown",
   "id": "44db9c7b",
   "metadata": {},
   "source": [
    "### Step 4: Visualizing the Data with Scatter Plot\n",
    "\n",
    "Before training the model, it's helpful to visualize the relationship between the input feature and the target variable. A scatter plot lets us see if a linear relationship might exist between `KBytesReceived` and `Resolution`.\n",
    "\n",
    "**Optional:** Learn more about plotting with Matplotlib see [mathplotlib documentation](https://matplotlib.org/tutorials/introductory/lifecycle.html).\n",
    "\n",
    "* b) Create a scatter plot showing `KBytesReceived` vs `Resolution` and save it as \"scatter_plot.pdf\" under the working directory."
   ]
  },
  {
   "cell_type": "markdown",
   "id": "2fd7e0a6",
   "metadata": {},
   "source": [
    "#### Answer:"
   ]
  },
  {
   "cell_type": "code",
   "execution_count": null,
   "id": "b44a1f35",
   "metadata": {},
   "outputs": [],
   "source": [
    "## TODO:"
   ]
  },
  {
   "cell_type": "markdown",
   "id": "7e2dae12",
   "metadata": {},
   "source": [
    "### Step 5: Manually Creating a Simple Regression Model\n",
    "\n",
    "Before using a machine learning library, let’s build a very simple regression model \"by hand\" to understand the concept.\n",
    "\n",
    "* c) Without using any machine learning libraries, define a simple linear model to predict `Resolution` from `KBytesReceived`. Choose a slope value of 1."
   ]
  },
  {
   "cell_type": "markdown",
   "id": "e49ec796",
   "metadata": {},
   "source": [
    "#### Answer:"
   ]
  },
  {
   "cell_type": "code",
   "execution_count": null,
   "id": "3f74204f",
   "metadata": {},
   "outputs": [],
   "source": [
    "## TODO:"
   ]
  },
  {
   "cell_type": "markdown",
   "id": "4777f3e9",
   "metadata": {},
   "source": [
    "* d) Plot the resulting line over your earlier scatter plot to visually assess the fit. Save the new plot as `scatter_plot2.pdf`"
   ]
  },
  {
   "cell_type": "markdown",
   "id": "dd5b4a69",
   "metadata": {},
   "source": [
    "#### Answer:"
   ]
  },
  {
   "cell_type": "code",
   "execution_count": null,
   "id": "2a92ea0d",
   "metadata": {},
   "outputs": [],
   "source": [
    "## TODO:"
   ]
  },
  {
   "cell_type": "markdown",
   "id": "a983865b",
   "metadata": {},
   "source": [
    "### Step 6: Train a Linear Regression Model Using Scikit-learn\n",
    "\n",
    "Now that you've tried defining a model manually, let's use supervised learning to train a regression model that automatically finds the best slope (and intercept) to fit the data.\n",
    "\n",
    "We'll use **Ordinary Least Squares (OLS)** — the most common type of linear regression — from `scikit-learn`.\n",
    "\n",
    "* e) Create the regression model. \n",
    "    * **Hint:** Use `LinearRegression()` from `sklearn.linear_model`."
   ]
  },
  {
   "cell_type": "markdown",
   "id": "af6ead72",
   "metadata": {},
   "source": [
    "#### Answer:"
   ]
  },
  {
   "cell_type": "code",
   "execution_count": null,
   "id": "27410099",
   "metadata": {},
   "outputs": [],
   "source": [
    "## TODO:"
   ]
  },
  {
   "cell_type": "markdown",
   "id": "fbf6c0c5",
   "metadata": {},
   "source": [
    "* f) Fit the model using your full dataset. \n",
    "    * **Hint:** Use `.fit(...)`."
   ]
  },
  {
   "cell_type": "markdown",
   "id": "e476d9f6",
   "metadata": {},
   "source": [
    "#### Answer:"
   ]
  },
  {
   "cell_type": "code",
   "execution_count": null,
   "id": "ddd37d06",
   "metadata": {},
   "outputs": [],
   "source": [
    "## TODO:"
   ]
  },
  {
   "cell_type": "markdown",
   "id": "88c7d7e3",
   "metadata": {},
   "source": [
    "* g) Predict the output for a range of input values. \n",
    "    * **Hint:** Use `.predict(...)` on your model."
   ]
  },
  {
   "cell_type": "markdown",
   "id": "2b3a0f03",
   "metadata": {},
   "source": [
    "#### Answer:"
   ]
  },
  {
   "cell_type": "code",
   "execution_count": null,
   "id": "fb0c39be",
   "metadata": {},
   "outputs": [],
   "source": [
    "## TODO:"
   ]
  },
  {
   "cell_type": "markdown",
   "id": "538dbe1b",
   "metadata": {},
   "source": [
    "* h) Plot the model’s predictions on top of your scatter plot. \n",
    "    * **Hint:** Use `ax.plot(...)` and add a legend with `ax.legend()`."
   ]
  },
  {
   "cell_type": "markdown",
   "id": "3a3310dc",
   "metadata": {},
   "source": [
    "#### Answer:"
   ]
  },
  {
   "cell_type": "code",
   "execution_count": null,
   "id": "bb0fa605",
   "metadata": {},
   "outputs": [],
   "source": [
    "## TODO:"
   ]
  },
  {
   "cell_type": "markdown",
   "id": "c91eb956",
   "metadata": {},
   "source": [
    "* i) Print the learned model parameters: the intercept and slope. \n",
    "    * **Hint:** Use `.intercept_` and `.coef_ attributes` of the model."
   ]
  },
  {
   "cell_type": "markdown",
   "id": "86b487bc",
   "metadata": {},
   "source": [
    "#### Answer:"
   ]
  },
  {
   "cell_type": "code",
   "execution_count": null,
   "id": "bc4d1133",
   "metadata": {},
   "outputs": [],
   "source": [
    "## TODO:"
   ]
  },
  {
   "cell_type": "markdown",
   "id": "7cd19fb4",
   "metadata": {},
   "source": [
    "* j) Save the final figure as `final_figure.pdf`. \n",
    "    * **Hint:** Use `fig.savefig(...)`."
   ]
  },
  {
   "cell_type": "markdown",
   "id": "447efa26",
   "metadata": {},
   "source": [
    "#### Answer:"
   ]
  },
  {
   "cell_type": "code",
   "execution_count": 2,
   "id": "4ea0be37",
   "metadata": {},
   "outputs": [],
   "source": [
    "## TODO:"
   ]
  }
 ],
 "metadata": {
  "kernelspec": {
   "display_name": "Python 3",
   "language": "python",
   "name": "python3"
  },
  "language_info": {
   "codemirror_mode": {
    "name": "ipython",
    "version": 3
   },
   "file_extension": ".py",
   "mimetype": "text/x-python",
   "name": "python",
   "nbconvert_exporter": "python",
   "pygments_lexer": "ipython3",
   "version": "3.12.10"
  }
 },
 "nbformat": 4,
 "nbformat_minor": 5
}
